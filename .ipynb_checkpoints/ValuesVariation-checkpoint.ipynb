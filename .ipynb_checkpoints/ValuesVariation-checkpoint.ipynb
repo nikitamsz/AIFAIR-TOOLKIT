{
 "cells": [
  {
   "cell_type": "markdown",
   "id": "75bfa13d",
   "metadata": {},
   "source": [
    "# Introduction\n",
    "> This small piece of code has been built with the intention of providing you an insight into the dataset. You will be able to understand the simple metric of data variation within a specific field/fields.\n",
    "> The code will count the values that are within a specified field within your dataset and will showcase a simple graph that allows you to understand the spread of the dataset\n",
    ">> For example, you can use this to understand how the Female & Male sex has been represented. E.g. is there a bias on the Male sex in a situation where 80% of the dataset is Male sex and only 20% of the dataset is female."
   ]
  },
  {
   "cell_type": "markdown",
   "id": "113a5801",
   "metadata": {},
   "source": [
    "# Imports"
   ]
  },
  {
   "cell_type": "code",
   "execution_count": 1,
   "id": "637f6628",
   "metadata": {},
   "outputs": [],
   "source": [
    "import pandas as pd\n",
    "import matplotlib.pyplot as plt\n",
    "import os"
   ]
  },
  {
   "cell_type": "markdown",
   "id": "c0b48ad5",
   "metadata": {},
   "source": [
    "# Data Variation Function"
   ]
  },
  {
   "cell_type": "code",
   "execution_count": null,
   "id": "9a421c67",
   "metadata": {},
   "outputs": [],
   "source": [
    "def check_data_variation(dataframe, columns, graph_types, graph_output_names, graph_X_values, graph_Y_values, output_folder):\n",
    "    # Make new directory\n",
    "    #python program to check if a directory exists\n",
    "    path = \"directory\"\n",
    "    # Check whether the specified path exists or not\n",
    "    isExist = os.path.exists(path)\n",
    "    #printing if the path exists or not\n",
    "    print(isExist)\n",
    "    \n",
    "    \n",
    "    c = 0\n",
    "    for row in columns:\n",
    "        this_graph = dataframe[row].value_counts().plot(kind=graph_types[c])\n",
    "        this_graph.set_xlabel(graph_X_values[c])\n",
    "        this_graph.set_ylabel(graph_Y_values[c])\n",
    "        this_graph.get_figure().savefig(f'{output_folder}/{graph_output_names[c]}.png')\n",
    "        c+=1\n"
   ]
  },
  {
   "cell_type": "markdown",
   "id": "3513238c",
   "metadata": {},
   "source": [
    "# Check for data variation\n",
    "> Please note - You can input a finate amount of fields to be investigated for value variation, however if you input e.g. 2 fields to be displayed, please ensure to input 2 variables in all the other definition items"
   ]
  },
  {
   "cell_type": "code",
   "execution_count": null,
   "id": "98b493e3",
   "metadata": {},
   "outputs": [],
   "source": [
    "data = pd.read_csv('FairML/dataset/propublica_data_for_fairml.csv')\n",
    "check_data_variation(data, ['Female','Asian'], ['barh','barh'], ['num_females_to_males','num_asian_to_non_asian'], \n",
    "                     ['# in dataset','# in dataset'], ['Female(1), Male(0)','# Asian(1), Non-Asian(0)'], 'outputs_variation')"
   ]
  }
 ],
 "metadata": {
  "kernelspec": {
   "display_name": "Python 3 (ipykernel)",
   "language": "python",
   "name": "python3"
  },
  "language_info": {
   "codemirror_mode": {
    "name": "ipython",
    "version": 3
   },
   "file_extension": ".py",
   "mimetype": "text/x-python",
   "name": "python",
   "nbconvert_exporter": "python",
   "pygments_lexer": "ipython3",
   "version": "3.9.13"
  }
 },
 "nbformat": 4,
 "nbformat_minor": 5
}
