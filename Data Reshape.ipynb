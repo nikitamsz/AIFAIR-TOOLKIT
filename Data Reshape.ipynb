{
 "cells": [
  {
   "cell_type": "markdown",
   "id": "7616e4a0",
   "metadata": {},
   "source": [
    "# Introduction\n",
    "\n",
    "> The code allows end users to reshape their data, making it ready for a lot of the tools that are used within this toolkit.\n",
    "\n",
    "> The idea is to provide a TRUE or FALSE indicator to the values within a field\n",
    "\n",
    "> For example:\n",
    ">> We have a dataset that contains a field 'sex', this field tells us if an individual is either Male or Female. As it stand, the dataset has the raw value inside that field e.g. 'Male' or 'Female'\n",
    "\n",
    ">> In order to use this dataset with the tools you must provide a 1 or 0 value in this field to indicate if an individual is either Male or Female, we can do this by following this process:\n",
    "\n",
    ">>> Current column 'sex' has values 'Male' or 'Female'\n",
    "\n",
    ">>> We can create a new field 'Is Male' that will contain our 0 or 1 value (0 = is not male, 1= is male)\n",
    "\n",
    ">>> This new field can then hold the 0 or 1 values, which we can in turn later use for purposes of this toolkit and model training"
   ]
  },
  {
   "cell_type": "markdown",
   "id": "c8e25275",
   "metadata": {},
   "source": [
    "# Imports"
   ]
  },
  {
   "cell_type": "code",
   "execution_count": 2,
   "id": "669caadd",
   "metadata": {
    "tags": []
   },
   "outputs": [],
   "source": [
    "import pandas as pd"
   ]
  },
  {
   "cell_type": "markdown",
   "id": "773015f2",
   "metadata": {},
   "source": [
    "# Import our original dataset\n",
    ">  For this example we will use a survey dataset around McDonald's"
   ]
  },
  {
   "cell_type": "code",
   "execution_count": 3,
   "id": "fa2b3cc4",
   "metadata": {
    "tags": []
   },
   "outputs": [],
   "source": [
    "df = pd.read_csv('dataset/MCD_survey_data.csv')"
   ]
  },
  {
   "cell_type": "markdown",
   "id": "7cac0a73",
   "metadata": {},
   "source": [
    "> We can see by viewing the first 10 values what our dataset looks like"
   ]
  },
  {
   "cell_type": "code",
   "execution_count": 4,
   "id": "626d8a16",
   "metadata": {
    "tags": []
   },
   "outputs": [
    {
     "data": {
      "text/html": [
       "<div>\n",
       "<style scoped>\n",
       "    .dataframe tbody tr th:only-of-type {\n",
       "        vertical-align: middle;\n",
       "    }\n",
       "\n",
       "    .dataframe tbody tr th {\n",
       "        vertical-align: top;\n",
       "    }\n",
       "\n",
       "    .dataframe thead th {\n",
       "        text-align: right;\n",
       "    }\n",
       "</style>\n",
       "<table border=\"1\" class=\"dataframe\">\n",
       "  <thead>\n",
       "    <tr style=\"text-align: right;\">\n",
       "      <th></th>\n",
       "      <th>first_name</th>\n",
       "      <th>last_name</th>\n",
       "      <th>age</th>\n",
       "      <th>email</th>\n",
       "      <th>country</th>\n",
       "      <th>postal_code</th>\n",
       "      <th>favorite_color</th>\n",
       "      <th>frequency_of_visits</th>\n",
       "      <th>favorite_menu_item</th>\n",
       "      <th>employment_status</th>\n",
       "      <th>Gender</th>\n",
       "    </tr>\n",
       "  </thead>\n",
       "  <tbody>\n",
       "    <tr>\n",
       "      <th>0</th>\n",
       "      <td>Basilius</td>\n",
       "      <td>Atcheson</td>\n",
       "      <td>37</td>\n",
       "      <td>batcheson0@mozilla.org</td>\n",
       "      <td>Vietnam</td>\n",
       "      <td>NaN</td>\n",
       "      <td>red</td>\n",
       "      <td>4.4</td>\n",
       "      <td>Big Mac</td>\n",
       "      <td>Full-time</td>\n",
       "      <td>Male</td>\n",
       "    </tr>\n",
       "    <tr>\n",
       "      <th>1</th>\n",
       "      <td>Elston</td>\n",
       "      <td>Egar</td>\n",
       "      <td>51</td>\n",
       "      <td>eegar1@tuttocitta.it</td>\n",
       "      <td>China</td>\n",
       "      <td>NaN</td>\n",
       "      <td>blue</td>\n",
       "      <td>0.6</td>\n",
       "      <td>McNuggets</td>\n",
       "      <td>Part-time</td>\n",
       "      <td>Male</td>\n",
       "    </tr>\n",
       "    <tr>\n",
       "      <th>2</th>\n",
       "      <td>Stormi</td>\n",
       "      <td>Goldsby</td>\n",
       "      <td>51</td>\n",
       "      <td>sgoldsby2@ibm.com</td>\n",
       "      <td>Indonesia</td>\n",
       "      <td>NaN</td>\n",
       "      <td>red</td>\n",
       "      <td>5.5</td>\n",
       "      <td>Quarter Pounder</td>\n",
       "      <td>Retired</td>\n",
       "      <td>Female</td>\n",
       "    </tr>\n",
       "    <tr>\n",
       "      <th>3</th>\n",
       "      <td>Allie</td>\n",
       "      <td>Eskrick</td>\n",
       "      <td>35</td>\n",
       "      <td>aeskrick3@prlog.org</td>\n",
       "      <td>Portugal</td>\n",
       "      <td>7005-724</td>\n",
       "      <td>blue</td>\n",
       "      <td>5.2</td>\n",
       "      <td>Quarter Pounder</td>\n",
       "      <td>Retired</td>\n",
       "      <td>Male</td>\n",
       "    </tr>\n",
       "    <tr>\n",
       "      <th>4</th>\n",
       "      <td>Cornela</td>\n",
       "      <td>Skeffington</td>\n",
       "      <td>81</td>\n",
       "      <td>cskeffington4@archive.org</td>\n",
       "      <td>China</td>\n",
       "      <td>NaN</td>\n",
       "      <td>red</td>\n",
       "      <td>0.9</td>\n",
       "      <td>McNuggets</td>\n",
       "      <td>Student</td>\n",
       "      <td>Female</td>\n",
       "    </tr>\n",
       "    <tr>\n",
       "      <th>5</th>\n",
       "      <td>Cyndy</td>\n",
       "      <td>Hanham</td>\n",
       "      <td>37</td>\n",
       "      <td>chanham5@yahoo.com</td>\n",
       "      <td>China</td>\n",
       "      <td>NaN</td>\n",
       "      <td>red</td>\n",
       "      <td>2.5</td>\n",
       "      <td>Quarter Pounder</td>\n",
       "      <td>Part-time</td>\n",
       "      <td>Female</td>\n",
       "    </tr>\n",
       "    <tr>\n",
       "      <th>6</th>\n",
       "      <td>Napoleon</td>\n",
       "      <td>Coldrick</td>\n",
       "      <td>37</td>\n",
       "      <td>ncoldrick6@timesonline.co.uk</td>\n",
       "      <td>Japan</td>\n",
       "      <td>899-5241</td>\n",
       "      <td>blue</td>\n",
       "      <td>0.3</td>\n",
       "      <td>Quarter Pounder</td>\n",
       "      <td>Part-time</td>\n",
       "      <td>Male</td>\n",
       "    </tr>\n",
       "    <tr>\n",
       "      <th>7</th>\n",
       "      <td>Delcina</td>\n",
       "      <td>Jandera</td>\n",
       "      <td>61</td>\n",
       "      <td>djandera7@archive.org</td>\n",
       "      <td>Sweden</td>\n",
       "      <td>111 61</td>\n",
       "      <td>red</td>\n",
       "      <td>4.6</td>\n",
       "      <td>Big Mac</td>\n",
       "      <td>Full-time</td>\n",
       "      <td>Female</td>\n",
       "    </tr>\n",
       "    <tr>\n",
       "      <th>8</th>\n",
       "      <td>Avram</td>\n",
       "      <td>Yerrell</td>\n",
       "      <td>34</td>\n",
       "      <td>ayerrell8@pen.io</td>\n",
       "      <td>Indonesia</td>\n",
       "      <td>NaN</td>\n",
       "      <td>blue</td>\n",
       "      <td>3.6</td>\n",
       "      <td>Quarter Pounder</td>\n",
       "      <td>Part-time</td>\n",
       "      <td>Male</td>\n",
       "    </tr>\n",
       "    <tr>\n",
       "      <th>9</th>\n",
       "      <td>Tucky</td>\n",
       "      <td>Hawtry</td>\n",
       "      <td>40</td>\n",
       "      <td>thawtry9@sakura.ne.jp</td>\n",
       "      <td>Russia</td>\n",
       "      <td>356003</td>\n",
       "      <td>green</td>\n",
       "      <td>3.2</td>\n",
       "      <td>Big Mac</td>\n",
       "      <td>Full-time</td>\n",
       "      <td>Male</td>\n",
       "    </tr>\n",
       "  </tbody>\n",
       "</table>\n",
       "</div>"
      ],
      "text/plain": [
       "  first_name    last_name  age                         email    country  \\\n",
       "0   Basilius     Atcheson   37        batcheson0@mozilla.org    Vietnam   \n",
       "1     Elston         Egar   51          eegar1@tuttocitta.it      China   \n",
       "2     Stormi      Goldsby   51             sgoldsby2@ibm.com  Indonesia   \n",
       "3      Allie      Eskrick   35           aeskrick3@prlog.org   Portugal   \n",
       "4    Cornela  Skeffington   81     cskeffington4@archive.org      China   \n",
       "5      Cyndy       Hanham   37            chanham5@yahoo.com      China   \n",
       "6   Napoleon     Coldrick   37  ncoldrick6@timesonline.co.uk      Japan   \n",
       "7    Delcina      Jandera   61         djandera7@archive.org     Sweden   \n",
       "8      Avram      Yerrell   34              ayerrell8@pen.io  Indonesia   \n",
       "9      Tucky       Hawtry   40         thawtry9@sakura.ne.jp     Russia   \n",
       "\n",
       "  postal_code favorite_color  frequency_of_visits favorite_menu_item  \\\n",
       "0         NaN            red                  4.4            Big Mac   \n",
       "1         NaN           blue                  0.6          McNuggets   \n",
       "2         NaN            red                  5.5    Quarter Pounder   \n",
       "3    7005-724           blue                  5.2    Quarter Pounder   \n",
       "4         NaN            red                  0.9          McNuggets   \n",
       "5         NaN            red                  2.5    Quarter Pounder   \n",
       "6    899-5241           blue                  0.3    Quarter Pounder   \n",
       "7      111 61            red                  4.6            Big Mac   \n",
       "8         NaN           blue                  3.6    Quarter Pounder   \n",
       "9      356003          green                  3.2            Big Mac   \n",
       "\n",
       "  employment_status  Gender  \n",
       "0         Full-time    Male  \n",
       "1         Part-time    Male  \n",
       "2           Retired  Female  \n",
       "3           Retired    Male  \n",
       "4           Student  Female  \n",
       "5         Part-time  Female  \n",
       "6         Part-time    Male  \n",
       "7         Full-time  Female  \n",
       "8         Part-time    Male  \n",
       "9         Full-time    Male  "
      ]
     },
     "execution_count": 4,
     "metadata": {},
     "output_type": "execute_result"
    }
   ],
   "source": [
    "df.head(10)"
   ]
  },
  {
   "cell_type": "markdown",
   "id": "49440671",
   "metadata": {},
   "source": [
    "# Reshape the dataset accordingly\n",
    "> The below example will show us how we can accordingly reshape the dataset. The examples will show how to set a TRUE (1) or FALSE (0) value in place\n",
    "\n",
    "> Two seperate examples will be used"
   ]
  },
  {
   "cell_type": "markdown",
   "id": "8e1556a4",
   "metadata": {},
   "source": [
    " ## Example 1 - Gender Field"
   ]
  },
  {
   "cell_type": "markdown",
   "id": "f73d145c",
   "metadata": {},
   "source": [
    "> Discover the values inside our field\n",
    "\n",
    "> We can see we have two types of data, Female and Male"
   ]
  },
  {
   "cell_type": "code",
   "execution_count": 5,
   "id": "23284e64",
   "metadata": {
    "tags": []
   },
   "outputs": [
    {
     "data": {
      "text/plain": [
       "Female    513\n",
       "Male      487\n",
       "Name: Gender, dtype: int64"
      ]
     },
     "execution_count": 5,
     "metadata": {},
     "output_type": "execute_result"
    }
   ],
   "source": [
    "df['Gender'].value_counts()"
   ]
  },
  {
   "cell_type": "markdown",
   "id": "1ad15f33",
   "metadata": {},
   "source": [
    "> Check for any empty fields and address them accordingly"
   ]
  },
  {
   "cell_type": "code",
   "execution_count": 6,
   "id": "44192167",
   "metadata": {
    "tags": []
   },
   "outputs": [
    {
     "data": {
      "text/plain": [
       "0"
      ]
     },
     "execution_count": 6,
     "metadata": {},
     "output_type": "execute_result"
    }
   ],
   "source": [
    "df['Gender'].isna().sum()"
   ]
  },
  {
   "cell_type": "markdown",
   "id": "f892ac40",
   "metadata": {},
   "source": [
    "> Based on the above, let's accordingly shape our dataset. There are only two values that can be occurent which is either Male or Female. We will simply check for each value which one is present and assign either TRUE or FALSE accordingly. We will be using a replace function\n",
    "\n",
    "> Our new column can be called something like \"Is Male\""
   ]
  },
  {
   "cell_type": "code",
   "execution_count": 7,
   "id": "3808ba6d",
   "metadata": {
    "tags": []
   },
   "outputs": [],
   "source": [
    "df['Is Male'] = df['Gender']\n",
    "df['Is Male'] = df['Is Male'].replace('Male', 1)\n",
    "df['Is Male'] = df['Is Male'].replace('Female', 0)"
   ]
  },
  {
   "cell_type": "markdown",
   "id": "3bb5ad12",
   "metadata": {},
   "source": [
    "> We can now see that the newly created field \"Is Male\" contains either a 0 or 1 value to indicate if an individual is male or not"
   ]
  },
  {
   "cell_type": "code",
   "execution_count": 8,
   "id": "534ba3c7",
   "metadata": {
    "tags": []
   },
   "outputs": [
    {
     "data": {
      "text/plain": [
       "0      1\n",
       "1      1\n",
       "2      0\n",
       "3      1\n",
       "4      0\n",
       "      ..\n",
       "995    1\n",
       "996    0\n",
       "997    1\n",
       "998    1\n",
       "999    0\n",
       "Name: Is Male, Length: 1000, dtype: int64"
      ]
     },
     "execution_count": 8,
     "metadata": {},
     "output_type": "execute_result"
    }
   ],
   "source": [
    "df['Is Male']"
   ]
  },
  {
   "cell_type": "markdown",
   "id": "e083606b",
   "metadata": {},
   "source": [
    "> Complete a value count to ensure we have same amount of coresponding values"
   ]
  },
  {
   "cell_type": "code",
   "execution_count": 9,
   "id": "9e840edf",
   "metadata": {
    "tags": []
   },
   "outputs": [
    {
     "data": {
      "text/plain": [
       "0    513\n",
       "1    487\n",
       "Name: Is Male, dtype: int64"
      ]
     },
     "execution_count": 9,
     "metadata": {},
     "output_type": "execute_result"
    }
   ],
   "source": [
    "df['Is Male'].value_counts()"
   ]
  },
  {
   "cell_type": "markdown",
   "id": "82b7fe40",
   "metadata": {},
   "source": [
    "> Based on the above example, we can now see we have appended the relevant values to our dataset"
   ]
  },
  {
   "cell_type": "markdown",
   "id": "28e9eac5",
   "metadata": {},
   "source": [
    "# Example 2 - Age field\n",
    "> Another example we can use is the age field. In this example we will split our dataset into a group of below 30 and above 30"
   ]
  },
  {
   "cell_type": "markdown",
   "id": "2e8dc472",
   "metadata": {},
   "source": [
    "\n",
    "> Firstly, we will create a new field in the data that is a copy of age.\n",
    "> Next we will apply a lambda function that will replace relevant values if they are above or below 30\n",
    "> All of the above is accomplished by the use of the below lambda function"
   ]
  },
  {
   "cell_type": "code",
   "execution_count": 10,
   "id": "75159d6f",
   "metadata": {
    "tags": []
   },
   "outputs": [],
   "source": [
    "# Set accordingly to your needs\n",
    "new_col_name = 'Above 30'\n",
    "condition = 30 #above threshold\n",
    "\n",
    "\n",
    "df[new_col_name]=df['age'].apply(lambda x: 1 if x>=condition else 0)"
   ]
  },
  {
   "cell_type": "markdown",
   "id": "0303a0f2",
   "metadata": {},
   "source": [
    "> On the contrary we can do the same to detect if individuals are below 30. Just flip the '>' to < in the lambda function"
   ]
  },
  {
   "cell_type": "code",
   "execution_count": 11,
   "id": "c6f7cdf7",
   "metadata": {
    "tags": []
   },
   "outputs": [],
   "source": [
    "new_col_name = 'Below 30'\n",
    "condition = 30\n",
    "df[new_col_name]=df['age'].apply(lambda x: 1 if x<=condition else 0)"
   ]
  },
  {
   "cell_type": "markdown",
   "id": "16616d62",
   "metadata": {},
   "source": [
    "> Finally, we can take our values and place them into a new dataframe that we can then later use within the toolkit"
   ]
  },
  {
   "cell_type": "code",
   "execution_count": 12,
   "id": "19771d62",
   "metadata": {
    "tags": []
   },
   "outputs": [],
   "source": [
    "new_df = df[['Is Male','Above 30', 'Below 30']]"
   ]
  },
  {
   "cell_type": "code",
   "execution_count": 13,
   "id": "3b25f979",
   "metadata": {
    "tags": []
   },
   "outputs": [
    {
     "data": {
      "text/html": [
       "<div>\n",
       "<style scoped>\n",
       "    .dataframe tbody tr th:only-of-type {\n",
       "        vertical-align: middle;\n",
       "    }\n",
       "\n",
       "    .dataframe tbody tr th {\n",
       "        vertical-align: top;\n",
       "    }\n",
       "\n",
       "    .dataframe thead th {\n",
       "        text-align: right;\n",
       "    }\n",
       "</style>\n",
       "<table border=\"1\" class=\"dataframe\">\n",
       "  <thead>\n",
       "    <tr style=\"text-align: right;\">\n",
       "      <th></th>\n",
       "      <th>Is Male</th>\n",
       "      <th>Above 30</th>\n",
       "      <th>Below 30</th>\n",
       "    </tr>\n",
       "  </thead>\n",
       "  <tbody>\n",
       "    <tr>\n",
       "      <th>0</th>\n",
       "      <td>1</td>\n",
       "      <td>1</td>\n",
       "      <td>0</td>\n",
       "    </tr>\n",
       "    <tr>\n",
       "      <th>1</th>\n",
       "      <td>1</td>\n",
       "      <td>1</td>\n",
       "      <td>0</td>\n",
       "    </tr>\n",
       "    <tr>\n",
       "      <th>2</th>\n",
       "      <td>0</td>\n",
       "      <td>1</td>\n",
       "      <td>0</td>\n",
       "    </tr>\n",
       "    <tr>\n",
       "      <th>3</th>\n",
       "      <td>1</td>\n",
       "      <td>1</td>\n",
       "      <td>0</td>\n",
       "    </tr>\n",
       "    <tr>\n",
       "      <th>4</th>\n",
       "      <td>0</td>\n",
       "      <td>1</td>\n",
       "      <td>0</td>\n",
       "    </tr>\n",
       "    <tr>\n",
       "      <th>...</th>\n",
       "      <td>...</td>\n",
       "      <td>...</td>\n",
       "      <td>...</td>\n",
       "    </tr>\n",
       "    <tr>\n",
       "      <th>995</th>\n",
       "      <td>1</td>\n",
       "      <td>1</td>\n",
       "      <td>0</td>\n",
       "    </tr>\n",
       "    <tr>\n",
       "      <th>996</th>\n",
       "      <td>0</td>\n",
       "      <td>0</td>\n",
       "      <td>1</td>\n",
       "    </tr>\n",
       "    <tr>\n",
       "      <th>997</th>\n",
       "      <td>1</td>\n",
       "      <td>1</td>\n",
       "      <td>0</td>\n",
       "    </tr>\n",
       "    <tr>\n",
       "      <th>998</th>\n",
       "      <td>1</td>\n",
       "      <td>0</td>\n",
       "      <td>1</td>\n",
       "    </tr>\n",
       "    <tr>\n",
       "      <th>999</th>\n",
       "      <td>0</td>\n",
       "      <td>1</td>\n",
       "      <td>0</td>\n",
       "    </tr>\n",
       "  </tbody>\n",
       "</table>\n",
       "<p>1000 rows × 3 columns</p>\n",
       "</div>"
      ],
      "text/plain": [
       "     Is Male  Above 30  Below 30\n",
       "0          1         1         0\n",
       "1          1         1         0\n",
       "2          0         1         0\n",
       "3          1         1         0\n",
       "4          0         1         0\n",
       "..       ...       ...       ...\n",
       "995        1         1         0\n",
       "996        0         0         1\n",
       "997        1         1         0\n",
       "998        1         0         1\n",
       "999        0         1         0\n",
       "\n",
       "[1000 rows x 3 columns]"
      ]
     },
     "execution_count": 13,
     "metadata": {},
     "output_type": "execute_result"
    }
   ],
   "source": [
    "new_df"
   ]
  },
  {
   "cell_type": "markdown",
   "id": "a81c341d",
   "metadata": {},
   "source": [
    "> Below is an example how to export this dataset"
   ]
  },
  {
   "cell_type": "code",
   "execution_count": 15,
   "id": "7b471890",
   "metadata": {
    "tags": []
   },
   "outputs": [],
   "source": [
    "df.to_csv('output_data/mcd_toolkit_ready_data.csv', index=False)\n"
   ]
  }
 ],
 "metadata": {
  "availableInstances": [
   {
    "_defaultOrder": 0,
    "_isFastLaunch": true,
    "category": "General purpose",
    "gpuNum": 0,
    "hideHardwareSpecs": false,
    "memoryGiB": 4,
    "name": "ml.t3.medium",
    "vcpuNum": 2
   },
   {
    "_defaultOrder": 1,
    "_isFastLaunch": false,
    "category": "General purpose",
    "gpuNum": 0,
    "hideHardwareSpecs": false,
    "memoryGiB": 8,
    "name": "ml.t3.large",
    "vcpuNum": 2
   },
   {
    "_defaultOrder": 2,
    "_isFastLaunch": false,
    "category": "General purpose",
    "gpuNum": 0,
    "hideHardwareSpecs": false,
    "memoryGiB": 16,
    "name": "ml.t3.xlarge",
    "vcpuNum": 4
   },
   {
    "_defaultOrder": 3,
    "_isFastLaunch": false,
    "category": "General purpose",
    "gpuNum": 0,
    "hideHardwareSpecs": false,
    "memoryGiB": 32,
    "name": "ml.t3.2xlarge",
    "vcpuNum": 8
   },
   {
    "_defaultOrder": 4,
    "_isFastLaunch": true,
    "category": "General purpose",
    "gpuNum": 0,
    "hideHardwareSpecs": false,
    "memoryGiB": 8,
    "name": "ml.m5.large",
    "vcpuNum": 2
   },
   {
    "_defaultOrder": 5,
    "_isFastLaunch": false,
    "category": "General purpose",
    "gpuNum": 0,
    "hideHardwareSpecs": false,
    "memoryGiB": 16,
    "name": "ml.m5.xlarge",
    "vcpuNum": 4
   },
   {
    "_defaultOrder": 6,
    "_isFastLaunch": false,
    "category": "General purpose",
    "gpuNum": 0,
    "hideHardwareSpecs": false,
    "memoryGiB": 32,
    "name": "ml.m5.2xlarge",
    "vcpuNum": 8
   },
   {
    "_defaultOrder": 7,
    "_isFastLaunch": false,
    "category": "General purpose",
    "gpuNum": 0,
    "hideHardwareSpecs": false,
    "memoryGiB": 64,
    "name": "ml.m5.4xlarge",
    "vcpuNum": 16
   },
   {
    "_defaultOrder": 8,
    "_isFastLaunch": false,
    "category": "General purpose",
    "gpuNum": 0,
    "hideHardwareSpecs": false,
    "memoryGiB": 128,
    "name": "ml.m5.8xlarge",
    "vcpuNum": 32
   },
   {
    "_defaultOrder": 9,
    "_isFastLaunch": false,
    "category": "General purpose",
    "gpuNum": 0,
    "hideHardwareSpecs": false,
    "memoryGiB": 192,
    "name": "ml.m5.12xlarge",
    "vcpuNum": 48
   },
   {
    "_defaultOrder": 10,
    "_isFastLaunch": false,
    "category": "General purpose",
    "gpuNum": 0,
    "hideHardwareSpecs": false,
    "memoryGiB": 256,
    "name": "ml.m5.16xlarge",
    "vcpuNum": 64
   },
   {
    "_defaultOrder": 11,
    "_isFastLaunch": false,
    "category": "General purpose",
    "gpuNum": 0,
    "hideHardwareSpecs": false,
    "memoryGiB": 384,
    "name": "ml.m5.24xlarge",
    "vcpuNum": 96
   },
   {
    "_defaultOrder": 12,
    "_isFastLaunch": false,
    "category": "General purpose",
    "gpuNum": 0,
    "hideHardwareSpecs": false,
    "memoryGiB": 8,
    "name": "ml.m5d.large",
    "vcpuNum": 2
   },
   {
    "_defaultOrder": 13,
    "_isFastLaunch": false,
    "category": "General purpose",
    "gpuNum": 0,
    "hideHardwareSpecs": false,
    "memoryGiB": 16,
    "name": "ml.m5d.xlarge",
    "vcpuNum": 4
   },
   {
    "_defaultOrder": 14,
    "_isFastLaunch": false,
    "category": "General purpose",
    "gpuNum": 0,
    "hideHardwareSpecs": false,
    "memoryGiB": 32,
    "name": "ml.m5d.2xlarge",
    "vcpuNum": 8
   },
   {
    "_defaultOrder": 15,
    "_isFastLaunch": false,
    "category": "General purpose",
    "gpuNum": 0,
    "hideHardwareSpecs": false,
    "memoryGiB": 64,
    "name": "ml.m5d.4xlarge",
    "vcpuNum": 16
   },
   {
    "_defaultOrder": 16,
    "_isFastLaunch": false,
    "category": "General purpose",
    "gpuNum": 0,
    "hideHardwareSpecs": false,
    "memoryGiB": 128,
    "name": "ml.m5d.8xlarge",
    "vcpuNum": 32
   },
   {
    "_defaultOrder": 17,
    "_isFastLaunch": false,
    "category": "General purpose",
    "gpuNum": 0,
    "hideHardwareSpecs": false,
    "memoryGiB": 192,
    "name": "ml.m5d.12xlarge",
    "vcpuNum": 48
   },
   {
    "_defaultOrder": 18,
    "_isFastLaunch": false,
    "category": "General purpose",
    "gpuNum": 0,
    "hideHardwareSpecs": false,
    "memoryGiB": 256,
    "name": "ml.m5d.16xlarge",
    "vcpuNum": 64
   },
   {
    "_defaultOrder": 19,
    "_isFastLaunch": false,
    "category": "General purpose",
    "gpuNum": 0,
    "hideHardwareSpecs": false,
    "memoryGiB": 384,
    "name": "ml.m5d.24xlarge",
    "vcpuNum": 96
   },
   {
    "_defaultOrder": 20,
    "_isFastLaunch": false,
    "category": "General purpose",
    "gpuNum": 0,
    "hideHardwareSpecs": true,
    "memoryGiB": 0,
    "name": "ml.geospatial.interactive",
    "supportedImageNames": [
     "sagemaker-geospatial-v1-0"
    ],
    "vcpuNum": 0
   },
   {
    "_defaultOrder": 21,
    "_isFastLaunch": true,
    "category": "Compute optimized",
    "gpuNum": 0,
    "hideHardwareSpecs": false,
    "memoryGiB": 4,
    "name": "ml.c5.large",
    "vcpuNum": 2
   },
   {
    "_defaultOrder": 22,
    "_isFastLaunch": false,
    "category": "Compute optimized",
    "gpuNum": 0,
    "hideHardwareSpecs": false,
    "memoryGiB": 8,
    "name": "ml.c5.xlarge",
    "vcpuNum": 4
   },
   {
    "_defaultOrder": 23,
    "_isFastLaunch": false,
    "category": "Compute optimized",
    "gpuNum": 0,
    "hideHardwareSpecs": false,
    "memoryGiB": 16,
    "name": "ml.c5.2xlarge",
    "vcpuNum": 8
   },
   {
    "_defaultOrder": 24,
    "_isFastLaunch": false,
    "category": "Compute optimized",
    "gpuNum": 0,
    "hideHardwareSpecs": false,
    "memoryGiB": 32,
    "name": "ml.c5.4xlarge",
    "vcpuNum": 16
   },
   {
    "_defaultOrder": 25,
    "_isFastLaunch": false,
    "category": "Compute optimized",
    "gpuNum": 0,
    "hideHardwareSpecs": false,
    "memoryGiB": 72,
    "name": "ml.c5.9xlarge",
    "vcpuNum": 36
   },
   {
    "_defaultOrder": 26,
    "_isFastLaunch": false,
    "category": "Compute optimized",
    "gpuNum": 0,
    "hideHardwareSpecs": false,
    "memoryGiB": 96,
    "name": "ml.c5.12xlarge",
    "vcpuNum": 48
   },
   {
    "_defaultOrder": 27,
    "_isFastLaunch": false,
    "category": "Compute optimized",
    "gpuNum": 0,
    "hideHardwareSpecs": false,
    "memoryGiB": 144,
    "name": "ml.c5.18xlarge",
    "vcpuNum": 72
   },
   {
    "_defaultOrder": 28,
    "_isFastLaunch": false,
    "category": "Compute optimized",
    "gpuNum": 0,
    "hideHardwareSpecs": false,
    "memoryGiB": 192,
    "name": "ml.c5.24xlarge",
    "vcpuNum": 96
   },
   {
    "_defaultOrder": 29,
    "_isFastLaunch": true,
    "category": "Accelerated computing",
    "gpuNum": 1,
    "hideHardwareSpecs": false,
    "memoryGiB": 16,
    "name": "ml.g4dn.xlarge",
    "vcpuNum": 4
   },
   {
    "_defaultOrder": 30,
    "_isFastLaunch": false,
    "category": "Accelerated computing",
    "gpuNum": 1,
    "hideHardwareSpecs": false,
    "memoryGiB": 32,
    "name": "ml.g4dn.2xlarge",
    "vcpuNum": 8
   },
   {
    "_defaultOrder": 31,
    "_isFastLaunch": false,
    "category": "Accelerated computing",
    "gpuNum": 1,
    "hideHardwareSpecs": false,
    "memoryGiB": 64,
    "name": "ml.g4dn.4xlarge",
    "vcpuNum": 16
   },
   {
    "_defaultOrder": 32,
    "_isFastLaunch": false,
    "category": "Accelerated computing",
    "gpuNum": 1,
    "hideHardwareSpecs": false,
    "memoryGiB": 128,
    "name": "ml.g4dn.8xlarge",
    "vcpuNum": 32
   },
   {
    "_defaultOrder": 33,
    "_isFastLaunch": false,
    "category": "Accelerated computing",
    "gpuNum": 4,
    "hideHardwareSpecs": false,
    "memoryGiB": 192,
    "name": "ml.g4dn.12xlarge",
    "vcpuNum": 48
   },
   {
    "_defaultOrder": 34,
    "_isFastLaunch": false,
    "category": "Accelerated computing",
    "gpuNum": 1,
    "hideHardwareSpecs": false,
    "memoryGiB": 256,
    "name": "ml.g4dn.16xlarge",
    "vcpuNum": 64
   },
   {
    "_defaultOrder": 35,
    "_isFastLaunch": false,
    "category": "Accelerated computing",
    "gpuNum": 1,
    "hideHardwareSpecs": false,
    "memoryGiB": 61,
    "name": "ml.p3.2xlarge",
    "vcpuNum": 8
   },
   {
    "_defaultOrder": 36,
    "_isFastLaunch": false,
    "category": "Accelerated computing",
    "gpuNum": 4,
    "hideHardwareSpecs": false,
    "memoryGiB": 244,
    "name": "ml.p3.8xlarge",
    "vcpuNum": 32
   },
   {
    "_defaultOrder": 37,
    "_isFastLaunch": false,
    "category": "Accelerated computing",
    "gpuNum": 8,
    "hideHardwareSpecs": false,
    "memoryGiB": 488,
    "name": "ml.p3.16xlarge",
    "vcpuNum": 64
   },
   {
    "_defaultOrder": 38,
    "_isFastLaunch": false,
    "category": "Accelerated computing",
    "gpuNum": 8,
    "hideHardwareSpecs": false,
    "memoryGiB": 768,
    "name": "ml.p3dn.24xlarge",
    "vcpuNum": 96
   },
   {
    "_defaultOrder": 39,
    "_isFastLaunch": false,
    "category": "Memory Optimized",
    "gpuNum": 0,
    "hideHardwareSpecs": false,
    "memoryGiB": 16,
    "name": "ml.r5.large",
    "vcpuNum": 2
   },
   {
    "_defaultOrder": 40,
    "_isFastLaunch": false,
    "category": "Memory Optimized",
    "gpuNum": 0,
    "hideHardwareSpecs": false,
    "memoryGiB": 32,
    "name": "ml.r5.xlarge",
    "vcpuNum": 4
   },
   {
    "_defaultOrder": 41,
    "_isFastLaunch": false,
    "category": "Memory Optimized",
    "gpuNum": 0,
    "hideHardwareSpecs": false,
    "memoryGiB": 64,
    "name": "ml.r5.2xlarge",
    "vcpuNum": 8
   },
   {
    "_defaultOrder": 42,
    "_isFastLaunch": false,
    "category": "Memory Optimized",
    "gpuNum": 0,
    "hideHardwareSpecs": false,
    "memoryGiB": 128,
    "name": "ml.r5.4xlarge",
    "vcpuNum": 16
   },
   {
    "_defaultOrder": 43,
    "_isFastLaunch": false,
    "category": "Memory Optimized",
    "gpuNum": 0,
    "hideHardwareSpecs": false,
    "memoryGiB": 256,
    "name": "ml.r5.8xlarge",
    "vcpuNum": 32
   },
   {
    "_defaultOrder": 44,
    "_isFastLaunch": false,
    "category": "Memory Optimized",
    "gpuNum": 0,
    "hideHardwareSpecs": false,
    "memoryGiB": 384,
    "name": "ml.r5.12xlarge",
    "vcpuNum": 48
   },
   {
    "_defaultOrder": 45,
    "_isFastLaunch": false,
    "category": "Memory Optimized",
    "gpuNum": 0,
    "hideHardwareSpecs": false,
    "memoryGiB": 512,
    "name": "ml.r5.16xlarge",
    "vcpuNum": 64
   },
   {
    "_defaultOrder": 46,
    "_isFastLaunch": false,
    "category": "Memory Optimized",
    "gpuNum": 0,
    "hideHardwareSpecs": false,
    "memoryGiB": 768,
    "name": "ml.r5.24xlarge",
    "vcpuNum": 96
   },
   {
    "_defaultOrder": 47,
    "_isFastLaunch": false,
    "category": "Accelerated computing",
    "gpuNum": 1,
    "hideHardwareSpecs": false,
    "memoryGiB": 16,
    "name": "ml.g5.xlarge",
    "vcpuNum": 4
   },
   {
    "_defaultOrder": 48,
    "_isFastLaunch": false,
    "category": "Accelerated computing",
    "gpuNum": 1,
    "hideHardwareSpecs": false,
    "memoryGiB": 32,
    "name": "ml.g5.2xlarge",
    "vcpuNum": 8
   },
   {
    "_defaultOrder": 49,
    "_isFastLaunch": false,
    "category": "Accelerated computing",
    "gpuNum": 1,
    "hideHardwareSpecs": false,
    "memoryGiB": 64,
    "name": "ml.g5.4xlarge",
    "vcpuNum": 16
   },
   {
    "_defaultOrder": 50,
    "_isFastLaunch": false,
    "category": "Accelerated computing",
    "gpuNum": 1,
    "hideHardwareSpecs": false,
    "memoryGiB": 128,
    "name": "ml.g5.8xlarge",
    "vcpuNum": 32
   },
   {
    "_defaultOrder": 51,
    "_isFastLaunch": false,
    "category": "Accelerated computing",
    "gpuNum": 1,
    "hideHardwareSpecs": false,
    "memoryGiB": 256,
    "name": "ml.g5.16xlarge",
    "vcpuNum": 64
   },
   {
    "_defaultOrder": 52,
    "_isFastLaunch": false,
    "category": "Accelerated computing",
    "gpuNum": 4,
    "hideHardwareSpecs": false,
    "memoryGiB": 192,
    "name": "ml.g5.12xlarge",
    "vcpuNum": 48
   },
   {
    "_defaultOrder": 53,
    "_isFastLaunch": false,
    "category": "Accelerated computing",
    "gpuNum": 4,
    "hideHardwareSpecs": false,
    "memoryGiB": 384,
    "name": "ml.g5.24xlarge",
    "vcpuNum": 96
   },
   {
    "_defaultOrder": 54,
    "_isFastLaunch": false,
    "category": "Accelerated computing",
    "gpuNum": 8,
    "hideHardwareSpecs": false,
    "memoryGiB": 768,
    "name": "ml.g5.48xlarge",
    "vcpuNum": 192
   },
   {
    "_defaultOrder": 55,
    "_isFastLaunch": false,
    "category": "Accelerated computing",
    "gpuNum": 8,
    "hideHardwareSpecs": false,
    "memoryGiB": 1152,
    "name": "ml.p4d.24xlarge",
    "vcpuNum": 96
   },
   {
    "_defaultOrder": 56,
    "_isFastLaunch": false,
    "category": "Accelerated computing",
    "gpuNum": 8,
    "hideHardwareSpecs": false,
    "memoryGiB": 1152,
    "name": "ml.p4de.24xlarge",
    "vcpuNum": 96
   }
  ],
  "instance_type": "ml.t3.medium",
  "kernelspec": {
   "display_name": "Python 3 (Data Science 3.0)",
   "language": "python",
   "name": "python3__SAGEMAKER_INTERNAL__arn:aws:sagemaker:eu-west-1:470317259841:image/sagemaker-data-science-310-v1"
  },
  "language_info": {
   "codemirror_mode": {
    "name": "ipython",
    "version": 3
   },
   "file_extension": ".py",
   "mimetype": "text/x-python",
   "name": "python",
   "nbconvert_exporter": "python",
   "pygments_lexer": "ipython3",
   "version": "3.10.6"
  },
  "widgets": {
   "application/vnd.jupyter.widget-state+json": {
    "state": {},
    "version_major": 2,
    "version_minor": 0
   }
  }
 },
 "nbformat": 4,
 "nbformat_minor": 5
}
