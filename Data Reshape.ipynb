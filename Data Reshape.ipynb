{
 "cells": [
  {
   "cell_type": "markdown",
   "id": "7616e4a0",
   "metadata": {},
   "source": [
    "# Introduction\n",
    "\n",
    "> The code allows end users to reshape their data, making it ready for a lot of the tools that are used within this toolkit.\n",
    "\n",
    "> The idea is to provide a TRUE or FALSE indicator to the values within a field\n",
    "\n",
    "> For example:\n",
    ">> We have a dataset that contains a field 'sex', this field tells us if an individual is either Male or Female. As it stand, the dataset has the raw value inside that field e.g. 'Male' or 'Female'\n",
    "\n",
    ">> In order to use this dataset with the tools you must provide a 1 or 0 value in this field to indicate if an individual is either Male or Female, we can do this by following this process:\n",
    "\n",
    ">>> Current column 'sex' has values 'Male' or 'Female'\n",
    "\n",
    ">>> We can create a new field 'Is Male' that will contain our 0 or 1 value (0 = is not male, 1= is male)\n",
    "\n",
    ">>> This new field can then hold the 0 or 1 values, which we can in turn later use for purposes of this toolkit and model training"
   ]
  },
  {
   "cell_type": "markdown",
   "id": "c8e25275",
   "metadata": {},
   "source": [
    "# Imports"
   ]
  },
  {
   "cell_type": "code",
   "execution_count": 4,
   "id": "669caadd",
   "metadata": {},
   "outputs": [],
   "source": [
    "import pandas as pd"
   ]
  },
  {
   "cell_type": "markdown",
   "id": "773015f2",
   "metadata": {},
   "source": [
    "# Import our original dataset\n",
    ">  For this example we will use a survey dataset around McDonald's"
   ]
  },
  {
   "cell_type": "code",
   "execution_count": 5,
   "id": "fa2b3cc4",
   "metadata": {},
   "outputs": [],
   "source": [
    "df = pd.read_csv('dataset/MCD_survey_data.csv')"
   ]
  },
  {
   "cell_type": "markdown",
   "id": "7cac0a73",
   "metadata": {},
   "source": [
    "> We can see by viewing the first 10 values what our dataset looks like"
   ]
  },
  {
   "cell_type": "code",
   "execution_count": 52,
   "id": "626d8a16",
   "metadata": {},
   "outputs": [
    {
     "data": {
      "text/html": [
       "<div>\n",
       "<style scoped>\n",
       "    .dataframe tbody tr th:only-of-type {\n",
       "        vertical-align: middle;\n",
       "    }\n",
       "\n",
       "    .dataframe tbody tr th {\n",
       "        vertical-align: top;\n",
       "    }\n",
       "\n",
       "    .dataframe thead th {\n",
       "        text-align: right;\n",
       "    }\n",
       "</style>\n",
       "<table border=\"1\" class=\"dataframe\">\n",
       "  <thead>\n",
       "    <tr style=\"text-align: right;\">\n",
       "      <th></th>\n",
       "      <th>first_name</th>\n",
       "      <th>last_name</th>\n",
       "      <th>age</th>\n",
       "      <th>email</th>\n",
       "      <th>country</th>\n",
       "      <th>postal_code</th>\n",
       "      <th>favorite_color</th>\n",
       "      <th>frequency_of_visits</th>\n",
       "      <th>favorite_menu_item</th>\n",
       "      <th>employment_status</th>\n",
       "      <th>Gender</th>\n",
       "      <th>Is Male</th>\n",
       "      <th>Above 30</th>\n",
       "    </tr>\n",
       "  </thead>\n",
       "  <tbody>\n",
       "    <tr>\n",
       "      <th>0</th>\n",
       "      <td>Basilius</td>\n",
       "      <td>Atcheson</td>\n",
       "      <td>37</td>\n",
       "      <td>batcheson0@mozilla.org</td>\n",
       "      <td>Vietnam</td>\n",
       "      <td>NaN</td>\n",
       "      <td>red</td>\n",
       "      <td>4.4</td>\n",
       "      <td>Big Mac</td>\n",
       "      <td>Full-time</td>\n",
       "      <td>Male</td>\n",
       "      <td>1</td>\n",
       "      <td>1</td>\n",
       "    </tr>\n",
       "    <tr>\n",
       "      <th>1</th>\n",
       "      <td>Elston</td>\n",
       "      <td>Egar</td>\n",
       "      <td>51</td>\n",
       "      <td>eegar1@tuttocitta.it</td>\n",
       "      <td>China</td>\n",
       "      <td>NaN</td>\n",
       "      <td>blue</td>\n",
       "      <td>0.6</td>\n",
       "      <td>McNuggets</td>\n",
       "      <td>Part-time</td>\n",
       "      <td>Male</td>\n",
       "      <td>1</td>\n",
       "      <td>1</td>\n",
       "    </tr>\n",
       "    <tr>\n",
       "      <th>2</th>\n",
       "      <td>Stormi</td>\n",
       "      <td>Goldsby</td>\n",
       "      <td>51</td>\n",
       "      <td>sgoldsby2@ibm.com</td>\n",
       "      <td>Indonesia</td>\n",
       "      <td>NaN</td>\n",
       "      <td>red</td>\n",
       "      <td>5.5</td>\n",
       "      <td>Quarter Pounder</td>\n",
       "      <td>Retired</td>\n",
       "      <td>Female</td>\n",
       "      <td>0</td>\n",
       "      <td>1</td>\n",
       "    </tr>\n",
       "    <tr>\n",
       "      <th>3</th>\n",
       "      <td>Allie</td>\n",
       "      <td>Eskrick</td>\n",
       "      <td>35</td>\n",
       "      <td>aeskrick3@prlog.org</td>\n",
       "      <td>Portugal</td>\n",
       "      <td>7005-724</td>\n",
       "      <td>blue</td>\n",
       "      <td>5.2</td>\n",
       "      <td>Quarter Pounder</td>\n",
       "      <td>Retired</td>\n",
       "      <td>Male</td>\n",
       "      <td>1</td>\n",
       "      <td>1</td>\n",
       "    </tr>\n",
       "    <tr>\n",
       "      <th>4</th>\n",
       "      <td>Cornela</td>\n",
       "      <td>Skeffington</td>\n",
       "      <td>81</td>\n",
       "      <td>cskeffington4@archive.org</td>\n",
       "      <td>China</td>\n",
       "      <td>NaN</td>\n",
       "      <td>red</td>\n",
       "      <td>0.9</td>\n",
       "      <td>McNuggets</td>\n",
       "      <td>Student</td>\n",
       "      <td>Female</td>\n",
       "      <td>0</td>\n",
       "      <td>1</td>\n",
       "    </tr>\n",
       "    <tr>\n",
       "      <th>5</th>\n",
       "      <td>Cyndy</td>\n",
       "      <td>Hanham</td>\n",
       "      <td>37</td>\n",
       "      <td>chanham5@yahoo.com</td>\n",
       "      <td>China</td>\n",
       "      <td>NaN</td>\n",
       "      <td>red</td>\n",
       "      <td>2.5</td>\n",
       "      <td>Quarter Pounder</td>\n",
       "      <td>Part-time</td>\n",
       "      <td>Female</td>\n",
       "      <td>0</td>\n",
       "      <td>1</td>\n",
       "    </tr>\n",
       "    <tr>\n",
       "      <th>6</th>\n",
       "      <td>Napoleon</td>\n",
       "      <td>Coldrick</td>\n",
       "      <td>37</td>\n",
       "      <td>ncoldrick6@timesonline.co.uk</td>\n",
       "      <td>Japan</td>\n",
       "      <td>899-5241</td>\n",
       "      <td>blue</td>\n",
       "      <td>0.3</td>\n",
       "      <td>Quarter Pounder</td>\n",
       "      <td>Part-time</td>\n",
       "      <td>Male</td>\n",
       "      <td>1</td>\n",
       "      <td>1</td>\n",
       "    </tr>\n",
       "    <tr>\n",
       "      <th>7</th>\n",
       "      <td>Delcina</td>\n",
       "      <td>Jandera</td>\n",
       "      <td>61</td>\n",
       "      <td>djandera7@archive.org</td>\n",
       "      <td>Sweden</td>\n",
       "      <td>111 61</td>\n",
       "      <td>red</td>\n",
       "      <td>4.6</td>\n",
       "      <td>Big Mac</td>\n",
       "      <td>Full-time</td>\n",
       "      <td>Female</td>\n",
       "      <td>0</td>\n",
       "      <td>1</td>\n",
       "    </tr>\n",
       "    <tr>\n",
       "      <th>8</th>\n",
       "      <td>Avram</td>\n",
       "      <td>Yerrell</td>\n",
       "      <td>34</td>\n",
       "      <td>ayerrell8@pen.io</td>\n",
       "      <td>Indonesia</td>\n",
       "      <td>NaN</td>\n",
       "      <td>blue</td>\n",
       "      <td>3.6</td>\n",
       "      <td>Quarter Pounder</td>\n",
       "      <td>Part-time</td>\n",
       "      <td>Male</td>\n",
       "      <td>1</td>\n",
       "      <td>1</td>\n",
       "    </tr>\n",
       "    <tr>\n",
       "      <th>9</th>\n",
       "      <td>Tucky</td>\n",
       "      <td>Hawtry</td>\n",
       "      <td>40</td>\n",
       "      <td>thawtry9@sakura.ne.jp</td>\n",
       "      <td>Russia</td>\n",
       "      <td>356003</td>\n",
       "      <td>green</td>\n",
       "      <td>3.2</td>\n",
       "      <td>Big Mac</td>\n",
       "      <td>Full-time</td>\n",
       "      <td>Male</td>\n",
       "      <td>1</td>\n",
       "      <td>1</td>\n",
       "    </tr>\n",
       "  </tbody>\n",
       "</table>\n",
       "</div>"
      ],
      "text/plain": [
       "  first_name    last_name  age                         email    country  \\\n",
       "0   Basilius     Atcheson   37        batcheson0@mozilla.org    Vietnam   \n",
       "1     Elston         Egar   51          eegar1@tuttocitta.it      China   \n",
       "2     Stormi      Goldsby   51             sgoldsby2@ibm.com  Indonesia   \n",
       "3      Allie      Eskrick   35           aeskrick3@prlog.org   Portugal   \n",
       "4    Cornela  Skeffington   81     cskeffington4@archive.org      China   \n",
       "5      Cyndy       Hanham   37            chanham5@yahoo.com      China   \n",
       "6   Napoleon     Coldrick   37  ncoldrick6@timesonline.co.uk      Japan   \n",
       "7    Delcina      Jandera   61         djandera7@archive.org     Sweden   \n",
       "8      Avram      Yerrell   34              ayerrell8@pen.io  Indonesia   \n",
       "9      Tucky       Hawtry   40         thawtry9@sakura.ne.jp     Russia   \n",
       "\n",
       "  postal_code favorite_color  frequency_of_visits favorite_menu_item  \\\n",
       "0         NaN            red                  4.4            Big Mac   \n",
       "1         NaN           blue                  0.6          McNuggets   \n",
       "2         NaN            red                  5.5    Quarter Pounder   \n",
       "3    7005-724           blue                  5.2    Quarter Pounder   \n",
       "4         NaN            red                  0.9          McNuggets   \n",
       "5         NaN            red                  2.5    Quarter Pounder   \n",
       "6    899-5241           blue                  0.3    Quarter Pounder   \n",
       "7      111 61            red                  4.6            Big Mac   \n",
       "8         NaN           blue                  3.6    Quarter Pounder   \n",
       "9      356003          green                  3.2            Big Mac   \n",
       "\n",
       "  employment_status  Gender  Is Male  Above 30  \n",
       "0         Full-time    Male        1         1  \n",
       "1         Part-time    Male        1         1  \n",
       "2           Retired  Female        0         1  \n",
       "3           Retired    Male        1         1  \n",
       "4           Student  Female        0         1  \n",
       "5         Part-time  Female        0         1  \n",
       "6         Part-time    Male        1         1  \n",
       "7         Full-time  Female        0         1  \n",
       "8         Part-time    Male        1         1  \n",
       "9         Full-time    Male        1         1  "
      ]
     },
     "execution_count": 52,
     "metadata": {},
     "output_type": "execute_result"
    }
   ],
   "source": [
    "df.head(10)"
   ]
  },
  {
   "cell_type": "markdown",
   "id": "49440671",
   "metadata": {},
   "source": [
    "# Reshape the dataset accordingly\n",
    "> The below example will show us how we can accordingly reshape the dataset. The examples will show how to set a TRUE (1) or FALSE (0) value in place\n",
    "\n",
    "> Two seperate examples will be used"
   ]
  },
  {
   "cell_type": "markdown",
   "id": "8e1556a4",
   "metadata": {},
   "source": [
    " ## Example 1 - Gender Field"
   ]
  },
  {
   "cell_type": "markdown",
   "id": "f73d145c",
   "metadata": {},
   "source": [
    "> Discover the values inside our field\n",
    "\n",
    "> We can see we have two types of data, Female and Male"
   ]
  },
  {
   "cell_type": "code",
   "execution_count": 39,
   "id": "23284e64",
   "metadata": {},
   "outputs": [
    {
     "data": {
      "text/plain": [
       "Female    513\n",
       "Male      487\n",
       "Name: Gender, dtype: int64"
      ]
     },
     "execution_count": 39,
     "metadata": {},
     "output_type": "execute_result"
    }
   ],
   "source": [
    "df['Gender'].value_counts()"
   ]
  },
  {
   "cell_type": "markdown",
   "id": "1ad15f33",
   "metadata": {},
   "source": [
    "> Check for any empty fields and address them accordingly"
   ]
  },
  {
   "cell_type": "code",
   "execution_count": 41,
   "id": "44192167",
   "metadata": {},
   "outputs": [
    {
     "data": {
      "text/plain": [
       "0"
      ]
     },
     "execution_count": 41,
     "metadata": {},
     "output_type": "execute_result"
    }
   ],
   "source": [
    "df['Gender'].isna().sum()"
   ]
  },
  {
   "cell_type": "markdown",
   "id": "f892ac40",
   "metadata": {},
   "source": [
    "> Based on the above, let's accordingly shape our dataset. There are only two values that can be occurent which is either Male or Female. We will simply check for each value which one is present and assign either TRUE or FALSE accordingly. We will be using a replace function\n",
    "\n",
    "> Our new column can be called something like \"Is Male\""
   ]
  },
  {
   "cell_type": "code",
   "execution_count": 37,
   "id": "3808ba6d",
   "metadata": {},
   "outputs": [],
   "source": [
    "df['Is Male'] = df['Gender']\n",
    "df['Is Male'] = df['Is Male'].replace('Male', 1)\n",
    "df['Is Male'] = df['Is Male'].replace('Female', 0)"
   ]
  },
  {
   "cell_type": "markdown",
   "id": "3bb5ad12",
   "metadata": {},
   "source": [
    "> We can now see that the newly created field \"Is Male\" contains either a 0 or 1 value to indicate if an individual is male or not"
   ]
  },
  {
   "cell_type": "code",
   "execution_count": 38,
   "id": "534ba3c7",
   "metadata": {},
   "outputs": [
    {
     "data": {
      "text/plain": [
       "0      1\n",
       "1      1\n",
       "2      0\n",
       "3      1\n",
       "4      0\n",
       "      ..\n",
       "995    1\n",
       "996    0\n",
       "997    1\n",
       "998    1\n",
       "999    0\n",
       "Name: Is Male, Length: 1000, dtype: int64"
      ]
     },
     "execution_count": 38,
     "metadata": {},
     "output_type": "execute_result"
    }
   ],
   "source": [
    "df['Is Male']"
   ]
  },
  {
   "cell_type": "markdown",
   "id": "e083606b",
   "metadata": {},
   "source": [
    "> Complete a value count to ensure we have same amount of coresponding values"
   ]
  },
  {
   "cell_type": "code",
   "execution_count": 42,
   "id": "9e840edf",
   "metadata": {},
   "outputs": [
    {
     "data": {
      "text/plain": [
       "0    513\n",
       "1    487\n",
       "Name: Is Male, dtype: int64"
      ]
     },
     "execution_count": 42,
     "metadata": {},
     "output_type": "execute_result"
    }
   ],
   "source": [
    "df['Is Male'].value_counts()"
   ]
  },
  {
   "cell_type": "markdown",
   "id": "82b7fe40",
   "metadata": {},
   "source": [
    "> Based on the above example, we can now see we have appended the relevant values to our dataset"
   ]
  },
  {
   "cell_type": "markdown",
   "id": "28e9eac5",
   "metadata": {},
   "source": [
    "# Example 2 - Age field\n",
    "> Another example we can use is the age field. In this example we will split our dataset into a group of below 30 and above 30"
   ]
  },
  {
   "cell_type": "markdown",
   "id": "2e8dc472",
   "metadata": {},
   "source": [
    "\n",
    "> Firstly, we will create a new field in the data that is a copy of age.\n",
    "> Next we will apply a lambda function that will replace relevant values if they are above or below 30\n",
    "> All of the above is accomplished by the use of the below lambda function"
   ]
  },
  {
   "cell_type": "code",
   "execution_count": 54,
   "id": "75159d6f",
   "metadata": {},
   "outputs": [],
   "source": [
    "# Set accordingly to your needs\n",
    "new_col_name = 'Above 30'\n",
    "condition = 30 #above threshold\n",
    "\n",
    "\n",
    "df[new_col_name]=df['age'].apply(lambda x: 1 if x>=condition else 0)"
   ]
  },
  {
   "cell_type": "markdown",
   "id": "0303a0f2",
   "metadata": {},
   "source": [
    "> On the contrary we can do the same to detect if individuals are below 30. Just flip the '>' to < in the lambda function"
   ]
  },
  {
   "cell_type": "code",
   "execution_count": 55,
   "id": "c6f7cdf7",
   "metadata": {},
   "outputs": [],
   "source": [
    "new_col_name = 'Below 30'\n",
    "condition = 30\n",
    "df[new_col_name]=df['age'].apply(lambda x: 1 if x<=condition else 0)"
   ]
  },
  {
   "cell_type": "markdown",
   "id": "16616d62",
   "metadata": {},
   "source": [
    "> Finally, we can take our values and place them into a new dataframe that we can then later use within the toolkit"
   ]
  },
  {
   "cell_type": "code",
   "execution_count": 57,
   "id": "19771d62",
   "metadata": {},
   "outputs": [],
   "source": [
    "new_df = df[['Is Male','Above 30', 'Below 30']]"
   ]
  },
  {
   "cell_type": "code",
   "execution_count": 58,
   "id": "3b25f979",
   "metadata": {},
   "outputs": [
    {
     "data": {
      "text/html": [
       "<div>\n",
       "<style scoped>\n",
       "    .dataframe tbody tr th:only-of-type {\n",
       "        vertical-align: middle;\n",
       "    }\n",
       "\n",
       "    .dataframe tbody tr th {\n",
       "        vertical-align: top;\n",
       "    }\n",
       "\n",
       "    .dataframe thead th {\n",
       "        text-align: right;\n",
       "    }\n",
       "</style>\n",
       "<table border=\"1\" class=\"dataframe\">\n",
       "  <thead>\n",
       "    <tr style=\"text-align: right;\">\n",
       "      <th></th>\n",
       "      <th>Is Male</th>\n",
       "      <th>Above 30</th>\n",
       "      <th>Below 30</th>\n",
       "    </tr>\n",
       "  </thead>\n",
       "  <tbody>\n",
       "    <tr>\n",
       "      <th>0</th>\n",
       "      <td>1</td>\n",
       "      <td>1</td>\n",
       "      <td>0</td>\n",
       "    </tr>\n",
       "    <tr>\n",
       "      <th>1</th>\n",
       "      <td>1</td>\n",
       "      <td>1</td>\n",
       "      <td>0</td>\n",
       "    </tr>\n",
       "    <tr>\n",
       "      <th>2</th>\n",
       "      <td>0</td>\n",
       "      <td>1</td>\n",
       "      <td>0</td>\n",
       "    </tr>\n",
       "    <tr>\n",
       "      <th>3</th>\n",
       "      <td>1</td>\n",
       "      <td>1</td>\n",
       "      <td>0</td>\n",
       "    </tr>\n",
       "    <tr>\n",
       "      <th>4</th>\n",
       "      <td>0</td>\n",
       "      <td>1</td>\n",
       "      <td>0</td>\n",
       "    </tr>\n",
       "    <tr>\n",
       "      <th>...</th>\n",
       "      <td>...</td>\n",
       "      <td>...</td>\n",
       "      <td>...</td>\n",
       "    </tr>\n",
       "    <tr>\n",
       "      <th>995</th>\n",
       "      <td>1</td>\n",
       "      <td>1</td>\n",
       "      <td>0</td>\n",
       "    </tr>\n",
       "    <tr>\n",
       "      <th>996</th>\n",
       "      <td>0</td>\n",
       "      <td>0</td>\n",
       "      <td>1</td>\n",
       "    </tr>\n",
       "    <tr>\n",
       "      <th>997</th>\n",
       "      <td>1</td>\n",
       "      <td>1</td>\n",
       "      <td>0</td>\n",
       "    </tr>\n",
       "    <tr>\n",
       "      <th>998</th>\n",
       "      <td>1</td>\n",
       "      <td>0</td>\n",
       "      <td>1</td>\n",
       "    </tr>\n",
       "    <tr>\n",
       "      <th>999</th>\n",
       "      <td>0</td>\n",
       "      <td>1</td>\n",
       "      <td>0</td>\n",
       "    </tr>\n",
       "  </tbody>\n",
       "</table>\n",
       "<p>1000 rows × 3 columns</p>\n",
       "</div>"
      ],
      "text/plain": [
       "     Is Male  Above 30  Below 30\n",
       "0          1         1         0\n",
       "1          1         1         0\n",
       "2          0         1         0\n",
       "3          1         1         0\n",
       "4          0         1         0\n",
       "..       ...       ...       ...\n",
       "995        1         1         0\n",
       "996        0         0         1\n",
       "997        1         1         0\n",
       "998        1         0         1\n",
       "999        0         1         0\n",
       "\n",
       "[1000 rows x 3 columns]"
      ]
     },
     "execution_count": 58,
     "metadata": {},
     "output_type": "execute_result"
    }
   ],
   "source": [
    "new_df"
   ]
  },
  {
   "cell_type": "markdown",
   "id": "a81c341d",
   "metadata": {},
   "source": [
    "> Below is an example how to export this dataset"
   ]
  },
  {
   "cell_type": "code",
   "execution_count": 60,
   "id": "7b471890",
   "metadata": {},
   "outputs": [],
   "source": [
    "df.to_csv('dataset/mcd_toolkit_ready_data.csv', index=False)\n"
   ]
  }
 ],
 "metadata": {
  "kernelspec": {
   "display_name": "Python 3 (ipykernel)",
   "language": "python",
   "name": "python3"
  },
  "language_info": {
   "codemirror_mode": {
    "name": "ipython",
    "version": 3
   },
   "file_extension": ".py",
   "mimetype": "text/x-python",
   "name": "python",
   "nbconvert_exporter": "python",
   "pygments_lexer": "ipython3",
   "version": "3.9.13"
  }
 },
 "nbformat": 4,
 "nbformat_minor": 5
}
