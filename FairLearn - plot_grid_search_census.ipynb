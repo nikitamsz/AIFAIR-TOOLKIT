{
 "cells": [
  {
   "cell_type": "code",
   "execution_count": null,
   "metadata": {},
   "outputs": [],
   "source": [
    "%matplotlib inline"
   ]
  },
  {
   "cell_type": "markdown",
   "metadata": {},
   "source": [
    "GridSearch with Census Data\n",
    "===========================\n"
   ]
  },
  {
   "cell_type": "markdown",
   "metadata": {},
   "source": [
    "Census dataset. This dataset is a classification problem - given a range\n",
    "of data about 32,000 individuals, predict whether their annual income is\n",
    "above or below fifty thousand dollars per year.\n",
    "\n",
    "For the purposes of this notebook, we shall treat this as a loan\n",
    "decision problem. We will pretend that the label indicates whether or\n",
    "not each individual repaid a loan in the past. We will use the data to\n",
    "train a predictor to predict whether previously unseen individuals will\n",
    "repay a loan or not. The assumption is that the model predictions are\n",
    "used to decide whether an individual should be offered a loan.\n",
    "\n",
    "We will first train a fairness-unaware predictor and show that it leads\n",
    "to unfair decisions under a specific notion of fairness called\n",
    "*demographic parity*. We then mitigate unfairness by applying the\n",
    "`GridSearch`{.sourceCode} algorithm from the Fairlearn package.\n"
   ]
  },
  {
   "cell_type": "markdown",
   "metadata": {},
   "source": [
    "Load and preprocess the data set\n",
    "================================\n",
    "\n",
    "We download the data set using [fetch\\_adult]{.title-ref} function in\n",
    "[fairlearn.datasets]{.title-ref}. We start by importing the various\n",
    "modules we\\'re going to use:\n"
   ]
  },
  {
   "cell_type": "code",
   "execution_count": null,
   "metadata": {},
   "outputs": [],
   "source": [
    "import pandas as pd\n",
    "from sklearn import metrics as skm\n",
    "from sklearn.linear_model import LogisticRegression\n",
    "from sklearn.model_selection import train_test_split\n",
    "from sklearn.preprocessing import LabelEncoder, StandardScaler\n",
    "\n",
    "from fairlearn.datasets import fetch_adult\n",
    "from fairlearn.reductions import DemographicParity, ErrorRate, GridSearch\n",
    "from fairlearn.metrics import (\n",
    "    MetricFrame,\n",
    "    selection_rate,\n",
    "    count,\n",
    "    plot_model_comparison,\n",
    "    selection_rate_difference,\n",
    ")"
   ]
  },
  {
   "cell_type": "markdown",
   "metadata": {},
   "source": [
    "We can now load and inspect the data by using the\n",
    "[fairlearn.datasets]{.title-ref} module:\n"
   ]
  },
  {
   "cell_type": "code",
   "execution_count": null,
   "metadata": {},
   "outputs": [],
   "source": [
    "data = fetch_adult()\n",
    "X_raw = data.data\n",
    "Y = (data.target == \">50K\") * 1\n",
    "X_raw"
   ]
  },
  {
   "cell_type": "markdown",
   "metadata": {},
   "source": [
    "We are going to treat the sex of each individual as a sensitive feature\n",
    "(where 0 indicates female and 1 indicates male), and in this particular\n",
    "case we are going separate this feature out and drop it from the main\n",
    "data. We then perform some standard data preprocessing steps to convert\n",
    "the data into a format suitable for the ML algorithms\n"
   ]
  },
  {
   "cell_type": "code",
   "execution_count": null,
   "metadata": {},
   "outputs": [],
   "source": [
    "A = X_raw[\"sex\"]\n",
    "X = X_raw.drop(labels=[\"sex\"], axis=1)\n",
    "X = pd.get_dummies(X)\n",
    "\n",
    "sc = StandardScaler()\n",
    "X_scaled = sc.fit_transform(X)\n",
    "X_scaled = pd.DataFrame(X_scaled, columns=X.columns)\n",
    "\n",
    "le = LabelEncoder()\n",
    "Y = le.fit_transform(Y)"
   ]
  },
  {
   "cell_type": "markdown",
   "metadata": {},
   "source": [
    "Finally, we split the data into training and test sets:\n"
   ]
  },
  {
   "cell_type": "code",
   "execution_count": null,
   "metadata": {},
   "outputs": [],
   "source": [
    "X_train, X_test, Y_train, Y_test, A_train, A_test = train_test_split(\n",
    "    X_scaled, Y, A, test_size=0.4, random_state=0, stratify=Y\n",
    ")\n",
    "\n",
    "# Work around indexing bug\n",
    "X_train = X_train.reset_index(drop=True)\n",
    "A_train = A_train.reset_index(drop=True)\n",
    "X_test = X_test.reset_index(drop=True)\n",
    "A_test = A_test.reset_index(drop=True)"
   ]
  },
  {
   "cell_type": "markdown",
   "metadata": {},
   "source": [
    "Training a fairness-unaware predictor\n",
    "=====================================\n",
    "\n",
    "To show the effect of Fairlearn we will first train a standard ML\n",
    "predictor that does not incorporate fairness. For speed of\n",
    "demonstration, we use the simple\n",
    "`sklearn.linear_model.LogisticRegression`{.interpreted-text\n",
    "role=\"class\"} class:\n"
   ]
  },
  {
   "cell_type": "code",
   "execution_count": null,
   "metadata": {},
   "outputs": [],
   "source": [
    "unmitigated_predictor = LogisticRegression(solver=\"liblinear\", fit_intercept=True)\n",
    "\n",
    "unmitigated_predictor.fit(X_train, Y_train)"
   ]
  },
  {
   "cell_type": "markdown",
   "metadata": {},
   "source": [
    "We can start to assess the predictor\\'s fairness using the\n",
    "\\`MetricFrame\\`:\n"
   ]
  },
  {
   "cell_type": "code",
   "execution_count": null,
   "metadata": {},
   "outputs": [],
   "source": [
    "metric_frame = MetricFrame(\n",
    "    metrics={\n",
    "        \"accuracy\": skm.accuracy_score,\n",
    "        \"selection_rate\": selection_rate,\n",
    "        \"count\": count,\n",
    "    },\n",
    "    sensitive_features=A_test,\n",
    "    y_true=Y_test,\n",
    "    y_pred=unmitigated_predictor.predict(X_test),\n",
    ")\n",
    "print(metric_frame.overall)\n",
    "print(metric_frame.by_group)\n",
    "metric_frame.by_group.plot.bar(\n",
    "    subplots=True,\n",
    "    layout=[3, 1],\n",
    "    legend=False,\n",
    "    figsize=[12, 8],\n",
    "    title=\"Accuracy and selection rate by group\",\n",
    ")"
   ]
  },
  {
   "cell_type": "markdown",
   "metadata": {},
   "source": [
    "Looking at the disparity in accuracy, we see that males have an error\n",
    "about three times greater than the females. More interesting is the\n",
    "disparity in opportunity - males are offered loans at three times the\n",
    "rate of females.\n",
    "\n",
    "Despite the fact that we removed the feature from the training data, our\n",
    "predictor still discriminates based on sex. This demonstrates that\n",
    "simply ignoring a sensitive feature when fitting a predictor rarely\n",
    "eliminates unfairness. There will generally be enough other features\n",
    "correlated with the removed feature to lead to disparate impact.\n"
   ]
  },
  {
   "cell_type": "markdown",
   "metadata": {},
   "source": [
    "Mitigation with GridSearch\n",
    "==========================\n",
    "\n",
    "The `fairlearn.reductions.GridSearch`{.interpreted-text role=\"class\"}\n",
    "class implements a simplified version of the exponentiated gradient\n",
    "reduction of [Agarwal et al. 2018](https://arxiv.org/abs/1803.02453).\n",
    "The user supplies a standard ML estimator, which is treated as a\n",
    "blackbox. [GridSearch]{.title-ref} works by generating a sequence of\n",
    "relabellings and reweightings, and trains a predictor for each.\n",
    "\n",
    "For this example, we specify demographic parity (on the sensitive\n",
    "feature of sex) as the fairness metric. Demographic parity requires that\n",
    "individuals are offered the opportunity (are approved for a loan in this\n",
    "example) independent of membership in the sensitive class (i.e., females\n",
    "and males should be offered loans at the same rate). We are using this\n",
    "metric for the sake of simplicity; in general, the appropriate fairness\n",
    "metric will not be obvious.\n"
   ]
  },
  {
   "cell_type": "code",
   "execution_count": null,
   "metadata": {},
   "outputs": [],
   "source": [
    "sweep = GridSearch(\n",
    "    LogisticRegression(solver=\"liblinear\", fit_intercept=True),\n",
    "    constraints=DemographicParity(),\n",
    "    grid_size=31,\n",
    ")"
   ]
  },
  {
   "cell_type": "markdown",
   "metadata": {},
   "source": [
    "Our algorithms provide `fit()`{.sourceCode} and `predict()`{.sourceCode}\n",
    "methods, so they behave in a similar manner to other ML packages in\n",
    "Python. We do however have to specify two extra arguments to\n",
    "`fit()`{.sourceCode} - the column of sensitive feature labels, and also\n",
    "the number of predictors to generate in our sweep.\n",
    "\n",
    "After `fit()`{.sourceCode} completes, we extract the full set of\n",
    "predictors from the `fairlearn.reductions.GridSearch`{.interpreted-text\n",
    "role=\"class\"} object.\n"
   ]
  },
  {
   "cell_type": "code",
   "execution_count": null,
   "metadata": {},
   "outputs": [],
   "source": [
    "sweep.fit(X_train, Y_train, sensitive_features=A_train)\n",
    "\n",
    "predictors = sweep.predictors_"
   ]
  },
  {
   "cell_type": "markdown",
   "metadata": {},
   "source": [
    "We could plot performance and fairness metrics of these predictors now.\n",
    "However, the plot would be somewhat confusing due to the number of\n",
    "models. In this case, we are going to remove the predictors which are\n",
    "dominated in the error-disparity space by others from the sweep (note\n",
    "that the disparity will only be calculated for the sensitive feature;\n",
    "other potentially sensitive features will not be mitigated). In general,\n",
    "one might not want to do this, since there may be other considerations\n",
    "beyond the strict optimization of error and disparity (of the given\n",
    "sensitive feature).\n"
   ]
  },
  {
   "cell_type": "code",
   "execution_count": null,
   "metadata": {},
   "outputs": [],
   "source": [
    "errors, disparities = [], []\n",
    "for m in predictors:\n",
    "\n",
    "    def classifier(X):\n",
    "        return m.predict(X)\n",
    "\n",
    "    error = ErrorRate()\n",
    "    error.load_data(X_train, pd.Series(Y_train), sensitive_features=A_train)\n",
    "    disparity = DemographicParity()\n",
    "    disparity.load_data(X_train, pd.Series(Y_train), sensitive_features=A_train)\n",
    "\n",
    "    errors.append(error.gamma(classifier)[0])\n",
    "    disparities.append(disparity.gamma(classifier).max())\n",
    "\n",
    "all_results = pd.DataFrame(\n",
    "    {\"predictor\": predictors, \"error\": errors, \"disparity\": disparities}\n",
    ")\n",
    "\n",
    "non_dominated = []\n",
    "for row in all_results.itertuples():\n",
    "    errors_for_lower_or_eq_disparity = all_results[\"error\"][\n",
    "        all_results[\"disparity\"] <= row.disparity\n",
    "    ]\n",
    "    if row.error <= errors_for_lower_or_eq_disparity.min():\n",
    "        non_dominated.append(row.predictor)"
   ]
  },
  {
   "cell_type": "markdown",
   "metadata": {},
   "source": [
    "Finally, we can evaluate the dominant models along with the unmitigated\n",
    "model.\n"
   ]
  },
  {
   "cell_type": "code",
   "execution_count": null,
   "metadata": {},
   "outputs": [],
   "source": [
    "predictions = {\"unmitigated\": unmitigated_predictor.predict(X_test)}\n",
    "metric_frames = {\"unmitigated\": metric_frame}\n",
    "for i in range(len(non_dominated)):\n",
    "    key = \"dominant_model_{0}\".format(i)\n",
    "    predictions[key] = non_dominated[i].predict(X_test)\n",
    "\n",
    "    metric_frames[key] = MetricFrame(\n",
    "        metrics={\n",
    "            \"accuracy\": skm.accuracy_score,\n",
    "            \"selection_rate\": selection_rate,\n",
    "            \"count\": count,\n",
    "        },\n",
    "        sensitive_features=A_test,\n",
    "        y_true=Y_test,\n",
    "        y_pred=predictions[key],\n",
    "    )\n",
    "\n",
    "import matplotlib.pyplot as plt\n",
    "\n",
    "x = [metric_frame.overall[\"accuracy\"] for metric_frame in metric_frames.values()]\n",
    "y = [\n",
    "    metric_frame.difference()[\"selection_rate\"]\n",
    "    for metric_frame in metric_frames.values()\n",
    "]\n",
    "keys = list(metric_frames.keys())\n",
    "plt.scatter(x, y)\n",
    "for i in range(len(x)):\n",
    "    plt.annotate(keys[i], (x[i] + 0.0003, y[i]))\n",
    "plt.xlabel(\"accuracy\")\n",
    "plt.ylabel(\"selection rate difference\")"
   ]
  },
  {
   "cell_type": "markdown",
   "metadata": {},
   "source": [
    "We see a Pareto front forming - the set of predictors which represent\n",
    "optimal tradeoffs between accuracy and disparity in predictions. In the\n",
    "ideal case, we would have a predictor at (1,0) - perfectly accurate and\n",
    "without any unfairness under demographic parity (with respect to the\n",
    "sensitive feature \\\"sex\\\"). The Pareto front represents the closest we\n",
    "can come to this ideal based on our data and choice of estimator. Note\n",
    "the range of the axes - the disparity axis covers more values than the\n",
    "accuracy, so we can reduce disparity substantially for a small loss in\n",
    "accuracy.\n",
    "\n",
    "In a real example, we would pick the model which represented the best\n",
    "trade-off between accuracy and disparity given the relevant business\n",
    "constraints.\n",
    "\n",
    "\\%% \\[markdown\\] Comparing models easily\n",
    "\\-\\-\\-\\-\\-\\-\\-\\-\\-\\-\\-\\-\\-\\-\\-\\-\\-\\-\\-\\-\\-\\--Fairlearn also provides\n",
    "functionality to compare models much more easily.\n"
   ]
  },
  {
   "cell_type": "code",
   "execution_count": null,
   "metadata": {},
   "outputs": [],
   "source": [
    "# Plot model comparison\n",
    "plot_model_comparison(\n",
    "    x_axis_metric=skm.accuracy_score,\n",
    "    y_axis_metric=selection_rate_difference,\n",
    "    y_true=Y_test,\n",
    "    y_preds=predictions,\n",
    "    sensitive_features=A_test,\n",
    "    point_labels=True,\n",
    "    show_plot=True,\n",
    ")\n",
    "# End model comparison"
   ]
  }
 ],
 "metadata": {
  "kernelspec": {
   "display_name": "Python 3 (ipykernel)",
   "language": "python",
   "name": "python3"
  },
  "language_info": {
   "codemirror_mode": {
    "name": "ipython",
    "version": 3
   },
   "file_extension": ".py",
   "mimetype": "text/x-python",
   "name": "python",
   "nbconvert_exporter": "python",
   "pygments_lexer": "ipython3",
   "version": "3.9.13"
  }
 },
 "nbformat": 4,
 "nbformat_minor": 1
}
