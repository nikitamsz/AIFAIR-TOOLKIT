{
 "cells": [
  {
   "cell_type": "markdown",
   "id": "d41aae42",
   "metadata": {},
   "source": [
    "# Introduction\n",
    "> The below example showcases how you can utilise the FairML toolkit to extract feature dependence of your deployed model. In the below example we use a logistic regression model. You can however use any classifier or regressor\n",
    "\n",
    "> Documentation for this ToolKit can be found here: https://github.com/adebayoj/fairml"
   ]
  },
  {
   "cell_type": "markdown",
   "id": "90c43807",
   "metadata": {},
   "source": [
    "# Pip install FairML\n",
    "> First of all, we will install the required package for FairML"
   ]
  },
  {
   "cell_type": "code",
   "execution_count": 1,
   "id": "e0e3d75f",
   "metadata": {},
   "outputs": [
    {
     "name": "stdout",
     "output_type": "stream",
     "text": [
      "Collecting https://github.com/adebayoj/fairml/archive/master.zip\n",
      "  Using cached https://github.com/adebayoj/fairml/archive/master.zip\n",
      "  Preparing metadata (setup.py): started\n",
      "  Preparing metadata (setup.py): finished with status 'done'\n",
      "Requirement already satisfied: numpy in c:\\users\\kchp100\\anaconda3\\lib\\site-packages (from fairml==0.1.1.5) (1.22.4)\n",
      "Requirement already satisfied: scipy in c:\\users\\kchp100\\anaconda3\\lib\\site-packages (from fairml==0.1.1.5) (1.7.0)\n",
      "Requirement already satisfied: scikit-learn>=0.18 in c:\\users\\kchp100\\anaconda3\\lib\\site-packages (from fairml==0.1.1.5) (1.0)\n",
      "Requirement already satisfied: matplotlib>=1.5.3 in c:\\users\\kchp100\\anaconda3\\lib\\site-packages (from fairml==0.1.1.5) (3.4.2)\n",
      "Requirement already satisfied: seaborn>=0.7.1 in c:\\users\\kchp100\\anaconda3\\lib\\site-packages (from fairml==0.1.1.5) (0.11.2)\n",
      "Requirement already satisfied: pandas>=0.19.0 in c:\\users\\kchp100\\anaconda3\\lib\\site-packages (from fairml==0.1.1.5) (1.3.3)\n",
      "Requirement already satisfied: kiwisolver>=1.0.1 in c:\\users\\kchp100\\anaconda3\\lib\\site-packages (from matplotlib>=1.5.3->fairml==0.1.1.5) (1.4.2)\n",
      "Requirement already satisfied: pillow>=6.2.0 in c:\\users\\kchp100\\anaconda3\\lib\\site-packages (from matplotlib>=1.5.3->fairml==0.1.1.5) (9.4.0)\n",
      "Requirement already satisfied: python-dateutil>=2.7 in c:\\users\\kchp100\\anaconda3\\lib\\site-packages (from matplotlib>=1.5.3->fairml==0.1.1.5) (2.8.2)\n",
      "Requirement already satisfied: cycler>=0.10 in c:\\users\\kchp100\\anaconda3\\lib\\site-packages (from matplotlib>=1.5.3->fairml==0.1.1.5) (0.11.0)\n",
      "Requirement already satisfied: pyparsing>=2.2.1 in c:\\users\\kchp100\\anaconda3\\lib\\site-packages (from matplotlib>=1.5.3->fairml==0.1.1.5) (3.0.9)\n",
      "Requirement already satisfied: pytz>=2017.3 in c:\\users\\kchp100\\anaconda3\\lib\\site-packages (from pandas>=0.19.0->fairml==0.1.1.5) (2022.1)\n",
      "Requirement already satisfied: threadpoolctl>=2.0.0 in c:\\users\\kchp100\\anaconda3\\lib\\site-packages (from scikit-learn>=0.18->fairml==0.1.1.5) (2.2.0)\n",
      "Requirement already satisfied: joblib>=0.11 in c:\\users\\kchp100\\anaconda3\\lib\\site-packages (from scikit-learn>=0.18->fairml==0.1.1.5) (1.1.0)\n",
      "Requirement already satisfied: six>=1.5 in c:\\users\\kchp100\\anaconda3\\lib\\site-packages (from python-dateutil>=2.7->matplotlib>=1.5.3->fairml==0.1.1.5) (1.16.0)\n"
     ]
    },
    {
     "name": "stderr",
     "output_type": "stream",
     "text": [
      "WARNING: Ignoring invalid distribution -rotobuf (c:\\users\\kchp100\\appdata\\roaming\\python\\python39\\site-packages)\n",
      "WARNING: Ignoring invalid distribution -illow (c:\\users\\kchp100\\anaconda3\\lib\\site-packages)\n",
      "WARNING: Ignoring invalid distribution -cipy (c:\\users\\kchp100\\anaconda3\\lib\\site-packages)\n",
      "WARNING: Ignoring invalid distribution -rotobuf (c:\\users\\kchp100\\appdata\\roaming\\python\\python39\\site-packages)\n",
      "WARNING: Ignoring invalid distribution -illow (c:\\users\\kchp100\\anaconda3\\lib\\site-packages)\n",
      "WARNING: Ignoring invalid distribution -cipy (c:\\users\\kchp100\\anaconda3\\lib\\site-packages)\n",
      "WARNING: Ignoring invalid distribution -rotobuf (c:\\users\\kchp100\\appdata\\roaming\\python\\python39\\site-packages)\n",
      "WARNING: Ignoring invalid distribution -illow (c:\\users\\kchp100\\anaconda3\\lib\\site-packages)\n",
      "WARNING: Ignoring invalid distribution -cipy (c:\\users\\kchp100\\anaconda3\\lib\\site-packages)\n",
      "WARNING: Ignoring invalid distribution -rotobuf (c:\\users\\kchp100\\appdata\\roaming\\python\\python39\\site-packages)\n",
      "WARNING: Ignoring invalid distribution -illow (c:\\users\\kchp100\\anaconda3\\lib\\site-packages)\n",
      "WARNING: Ignoring invalid distribution -cipy (c:\\users\\kchp100\\anaconda3\\lib\\site-packages)\n",
      "WARNING: Ignoring invalid distribution -rotobuf (c:\\users\\kchp100\\appdata\\roaming\\python\\python39\\site-packages)\n",
      "WARNING: Ignoring invalid distribution -illow (c:\\users\\kchp100\\anaconda3\\lib\\site-packages)\n",
      "WARNING: Ignoring invalid distribution -cipy (c:\\users\\kchp100\\anaconda3\\lib\\site-packages)\n",
      "WARNING: Ignoring invalid distribution -rotobuf (c:\\users\\kchp100\\appdata\\roaming\\python\\python39\\site-packages)\n",
      "WARNING: Ignoring invalid distribution -illow (c:\\users\\kchp100\\anaconda3\\lib\\site-packages)\n",
      "WARNING: Ignoring invalid distribution -cipy (c:\\users\\kchp100\\anaconda3\\lib\\site-packages)\n"
     ]
    }
   ],
   "source": [
    "import sys\n",
    "!{sys.executable} -m pip install https://github.com/adebayoj/fairml/archive/master.zip --trusted-host github.com"
   ]
  },
  {
   "cell_type": "code",
   "execution_count": 3,
   "id": "c0573f3d",
   "metadata": {},
   "outputs": [
    {
     "name": "stdout",
     "output_type": "stream",
     "text": [
      "Collecting numpy==1.21\n",
      "  Downloading numpy-1.21.0-cp39-cp39-win_amd64.whl (14.0 MB)\n",
      "     --------------------------------------- 14.0/14.0 MB 24.2 MB/s eta 0:00:00\n",
      "Installing collected packages: numpy\n",
      "  Attempting uninstall: numpy\n",
      "    Found existing installation: numpy 1.22.4\n",
      "    Uninstalling numpy-1.22.4:\n",
      "      Successfully uninstalled numpy-1.22.4\n"
     ]
    },
    {
     "name": "stderr",
     "output_type": "stream",
     "text": [
      "WARNING: Ignoring invalid distribution -rotobuf (c:\\users\\kchp100\\appdata\\roaming\\python\\python39\\site-packages)\n",
      "WARNING: Ignoring invalid distribution -illow (c:\\users\\kchp100\\anaconda3\\lib\\site-packages)\n",
      "WARNING: Ignoring invalid distribution -cipy (c:\\users\\kchp100\\anaconda3\\lib\\site-packages)\n",
      "WARNING: Ignoring invalid distribution -rotobuf (c:\\users\\kchp100\\appdata\\roaming\\python\\python39\\site-packages)\n",
      "WARNING: Ignoring invalid distribution -illow (c:\\users\\kchp100\\anaconda3\\lib\\site-packages)\n",
      "WARNING: Ignoring invalid distribution -cipy (c:\\users\\kchp100\\anaconda3\\lib\\site-packages)\n",
      "WARNING: Ignoring invalid distribution -rotobuf (c:\\users\\kchp100\\appdata\\roaming\\python\\python39\\site-packages)\n",
      "WARNING: Ignoring invalid distribution -illow (c:\\users\\kchp100\\anaconda3\\lib\\site-packages)\n",
      "WARNING: Ignoring invalid distribution -cipy (c:\\users\\kchp100\\anaconda3\\lib\\site-packages)\n",
      "    WARNING: Ignoring invalid distribution -rotobuf (c:\\users\\kchp100\\appdata\\roaming\\python\\python39\\site-packages)\n",
      "    WARNING: Ignoring invalid distribution -illow (c:\\users\\kchp100\\anaconda3\\lib\\site-packages)\n",
      "    WARNING: Ignoring invalid distribution -cipy (c:\\users\\kchp100\\anaconda3\\lib\\site-packages)\n",
      "ERROR: Could not install packages due to an OSError: [WinError 5] Access is denied: 'C:\\\\Users\\\\kchp100\\\\Anaconda3\\\\Lib\\\\site-packages\\\\~=mpy\\\\.libs\\\\libopenblas.EL2C6PLE4ZYW3ECEVIV3OXXGRN2NRFM2.gfortran-win_amd64.dll'\n",
      "Consider using the `--user` option or check the permissions.\n",
      "\n",
      "WARNING: Ignoring invalid distribution -rotobuf (c:\\users\\kchp100\\appdata\\roaming\\python\\python39\\site-packages)\n",
      "WARNING: Ignoring invalid distribution -illow (c:\\users\\kchp100\\anaconda3\\lib\\site-packages)\n",
      "WARNING: Ignoring invalid distribution -cipy (c:\\users\\kchp100\\anaconda3\\lib\\site-packages)\n",
      "WARNING: Ignoring invalid distribution -rotobuf (c:\\users\\kchp100\\appdata\\roaming\\python\\python39\\site-packages)\n",
      "WARNING: Ignoring invalid distribution -illow (c:\\users\\kchp100\\anaconda3\\lib\\site-packages)\n",
      "WARNING: Ignoring invalid distribution -cipy (c:\\users\\kchp100\\anaconda3\\lib\\site-packages)\n",
      "WARNING: Ignoring invalid distribution -rotobuf (c:\\users\\kchp100\\appdata\\roaming\\python\\python39\\site-packages)\n",
      "WARNING: Ignoring invalid distribution -illow (c:\\users\\kchp100\\anaconda3\\lib\\site-packages)\n",
      "WARNING: Ignoring invalid distribution -cipy (c:\\users\\kchp100\\anaconda3\\lib\\site-packages)\n"
     ]
    }
   ],
   "source": [
    "!{sys.executable} -m pip install numpy==1.21 --trusted-host github.com\n"
   ]
  },
  {
   "cell_type": "markdown",
   "id": "8a1d9eae",
   "metadata": {},
   "source": [
    "# Import modules"
   ]
  },
  {
   "cell_type": "markdown",
   "id": "7cad70a1",
   "metadata": {},
   "source": [
    "## Modules for model building and data processing\n",
    "> Secondly, we will import the required libraries/modules"
   ]
  },
  {
   "cell_type": "code",
   "execution_count": 4,
   "id": "b1bef166",
   "metadata": {},
   "outputs": [
    {
     "ename": "ImportError",
     "evalue": "Numba needs NumPy 1.21 or less",
     "output_type": "error",
     "traceback": [
      "\u001b[1;31m---------------------------------------------------------------------------\u001b[0m",
      "\u001b[1;31mImportError\u001b[0m                               Traceback (most recent call last)",
      "\u001b[1;32m~\\AppData\\Local\\Temp\\ipykernel_5644\\1580941478.py\u001b[0m in \u001b[0;36m<module>\u001b[1;34m\u001b[0m\n\u001b[0;32m      1\u001b[0m \u001b[1;32mimport\u001b[0m \u001b[0mpandas\u001b[0m \u001b[1;32mas\u001b[0m \u001b[0mpd\u001b[0m\u001b[1;33m\u001b[0m\u001b[1;33m\u001b[0m\u001b[0m\n\u001b[0;32m      2\u001b[0m \u001b[1;32mimport\u001b[0m \u001b[0mnumpy\u001b[0m \u001b[1;32mas\u001b[0m \u001b[0mnp\u001b[0m\u001b[1;33m\u001b[0m\u001b[1;33m\u001b[0m\u001b[0m\n\u001b[1;32m----> 3\u001b[1;33m \u001b[1;32mimport\u001b[0m \u001b[0mshap\u001b[0m\u001b[1;33m\u001b[0m\u001b[1;33m\u001b[0m\u001b[0m\n\u001b[0m\u001b[0;32m      4\u001b[0m \u001b[1;32mfrom\u001b[0m \u001b[0msklearn\u001b[0m\u001b[1;33m.\u001b[0m\u001b[0mlinear_model\u001b[0m \u001b[1;32mimport\u001b[0m \u001b[0mLogisticRegression\u001b[0m\u001b[1;33m\u001b[0m\u001b[1;33m\u001b[0m\u001b[0m\n\u001b[0;32m      5\u001b[0m \u001b[1;32mfrom\u001b[0m \u001b[0mmatplotlib\u001b[0m \u001b[1;32mimport\u001b[0m \u001b[0mpyplot\u001b[0m \u001b[1;32mas\u001b[0m \u001b[0mplt\u001b[0m\u001b[1;33m\u001b[0m\u001b[1;33m\u001b[0m\u001b[0m\n",
      "\u001b[1;32m~\\AppData\\Roaming\\Python\\Python39\\site-packages\\shap\\__init__.py\u001b[0m in \u001b[0;36m<module>\u001b[1;34m\u001b[0m\n\u001b[0;32m     10\u001b[0m     \u001b[0mwarnings\u001b[0m\u001b[1;33m.\u001b[0m\u001b[0mwarn\u001b[0m\u001b[1;33m(\u001b[0m\u001b[1;34m\"As of version 0.29.0 shap only supports Python 3 (not 2)!\"\u001b[0m\u001b[1;33m)\u001b[0m\u001b[1;33m\u001b[0m\u001b[1;33m\u001b[0m\u001b[0m\n\u001b[0;32m     11\u001b[0m \u001b[1;33m\u001b[0m\u001b[0m\n\u001b[1;32m---> 12\u001b[1;33m \u001b[1;32mfrom\u001b[0m \u001b[1;33m.\u001b[0m\u001b[0m_explanation\u001b[0m \u001b[1;32mimport\u001b[0m \u001b[0mExplanation\u001b[0m\u001b[1;33m,\u001b[0m \u001b[0mCohorts\u001b[0m\u001b[1;33m\u001b[0m\u001b[1;33m\u001b[0m\u001b[0m\n\u001b[0m\u001b[0;32m     13\u001b[0m \u001b[1;33m\u001b[0m\u001b[0m\n\u001b[0;32m     14\u001b[0m \u001b[1;31m# explainers\u001b[0m\u001b[1;33m\u001b[0m\u001b[1;33m\u001b[0m\u001b[0m\n",
      "\u001b[1;32m~\\AppData\\Roaming\\Python\\Python39\\site-packages\\shap\\_explanation.py\u001b[0m in \u001b[0;36m<module>\u001b[1;34m\u001b[0m\n\u001b[0;32m     10\u001b[0m \u001b[1;32mfrom\u001b[0m \u001b[0mslicer\u001b[0m \u001b[1;32mimport\u001b[0m \u001b[0mSlicer\u001b[0m\u001b[1;33m,\u001b[0m \u001b[0mAlias\u001b[0m\u001b[1;33m,\u001b[0m \u001b[0mObj\u001b[0m\u001b[1;33m\u001b[0m\u001b[1;33m\u001b[0m\u001b[0m\n\u001b[0;32m     11\u001b[0m \u001b[1;31m# from ._order import Order\u001b[0m\u001b[1;33m\u001b[0m\u001b[1;33m\u001b[0m\u001b[0m\n\u001b[1;32m---> 12\u001b[1;33m \u001b[1;32mfrom\u001b[0m \u001b[1;33m.\u001b[0m\u001b[0mutils\u001b[0m\u001b[1;33m.\u001b[0m\u001b[0m_general\u001b[0m \u001b[1;32mimport\u001b[0m \u001b[0mOpChain\u001b[0m\u001b[1;33m\u001b[0m\u001b[1;33m\u001b[0m\u001b[0m\n\u001b[0m\u001b[0;32m     13\u001b[0m \u001b[1;32mfrom\u001b[0m \u001b[1;33m.\u001b[0m\u001b[0mutils\u001b[0m\u001b[1;33m.\u001b[0m\u001b[0m_exceptions\u001b[0m \u001b[1;32mimport\u001b[0m \u001b[0mDimensionError\u001b[0m\u001b[1;33m\u001b[0m\u001b[1;33m\u001b[0m\u001b[0m\n\u001b[0;32m     14\u001b[0m \u001b[1;33m\u001b[0m\u001b[0m\n",
      "\u001b[1;32m~\\AppData\\Roaming\\Python\\Python39\\site-packages\\shap\\utils\\__init__.py\u001b[0m in \u001b[0;36m<module>\u001b[1;34m\u001b[0m\n\u001b[1;32m----> 1\u001b[1;33m \u001b[1;32mfrom\u001b[0m \u001b[1;33m.\u001b[0m\u001b[0m_clustering\u001b[0m \u001b[1;32mimport\u001b[0m \u001b[0mhclust_ordering\u001b[0m\u001b[1;33m,\u001b[0m \u001b[0mpartition_tree\u001b[0m\u001b[1;33m,\u001b[0m \u001b[0mpartition_tree_shuffle\u001b[0m\u001b[1;33m,\u001b[0m \u001b[0mdelta_minimization_order\u001b[0m\u001b[1;33m,\u001b[0m \u001b[0mhclust\u001b[0m\u001b[1;33m\u001b[0m\u001b[1;33m\u001b[0m\u001b[0m\n\u001b[0m\u001b[0;32m      2\u001b[0m \u001b[1;32mfrom\u001b[0m \u001b[1;33m.\u001b[0m\u001b[0m_general\u001b[0m \u001b[1;32mimport\u001b[0m \u001b[0mapproximate_interactions\u001b[0m\u001b[1;33m,\u001b[0m \u001b[0mpotential_interactions\u001b[0m\u001b[1;33m,\u001b[0m \u001b[0msample\u001b[0m\u001b[1;33m,\u001b[0m \u001b[0msafe_isinstance\u001b[0m\u001b[1;33m,\u001b[0m \u001b[0massert_import\u001b[0m\u001b[1;33m,\u001b[0m \u001b[0mrecord_import_error\u001b[0m\u001b[1;33m\u001b[0m\u001b[1;33m\u001b[0m\u001b[0m\n\u001b[0;32m      3\u001b[0m \u001b[1;32mfrom\u001b[0m \u001b[1;33m.\u001b[0m\u001b[0m_general\u001b[0m \u001b[1;32mimport\u001b[0m \u001b[0mshapley_coefficients\u001b[0m\u001b[1;33m,\u001b[0m \u001b[0mconvert_name\u001b[0m\u001b[1;33m,\u001b[0m \u001b[0mformat_value\u001b[0m\u001b[1;33m,\u001b[0m \u001b[0mordinal_str\u001b[0m\u001b[1;33m,\u001b[0m \u001b[0mOpChain\u001b[0m\u001b[1;33m,\u001b[0m \u001b[0msuppress_stderr\u001b[0m\u001b[1;33m\u001b[0m\u001b[1;33m\u001b[0m\u001b[0m\n\u001b[0;32m      4\u001b[0m \u001b[1;32mfrom\u001b[0m \u001b[1;33m.\u001b[0m\u001b[0m_show_progress\u001b[0m \u001b[1;32mimport\u001b[0m \u001b[0mshow_progress\u001b[0m\u001b[1;33m\u001b[0m\u001b[1;33m\u001b[0m\u001b[0m\n\u001b[0;32m      5\u001b[0m \u001b[1;32mfrom\u001b[0m \u001b[1;33m.\u001b[0m\u001b[0m_masked_model\u001b[0m \u001b[1;32mimport\u001b[0m \u001b[0mMaskedModel\u001b[0m\u001b[1;33m,\u001b[0m \u001b[0mmake_masks\u001b[0m\u001b[1;33m\u001b[0m\u001b[1;33m\u001b[0m\u001b[0m\n",
      "\u001b[1;32m~\\AppData\\Roaming\\Python\\Python39\\site-packages\\shap\\utils\\_clustering.py\u001b[0m in \u001b[0;36m<module>\u001b[1;34m\u001b[0m\n\u001b[0;32m      2\u001b[0m \u001b[1;32mimport\u001b[0m \u001b[0mscipy\u001b[0m \u001b[1;32mas\u001b[0m \u001b[0msp\u001b[0m\u001b[1;33m\u001b[0m\u001b[1;33m\u001b[0m\u001b[0m\n\u001b[0;32m      3\u001b[0m \u001b[1;32mfrom\u001b[0m \u001b[0mscipy\u001b[0m\u001b[1;33m.\u001b[0m\u001b[0mspatial\u001b[0m\u001b[1;33m.\u001b[0m\u001b[0mdistance\u001b[0m \u001b[1;32mimport\u001b[0m \u001b[0mpdist\u001b[0m\u001b[1;33m\u001b[0m\u001b[1;33m\u001b[0m\u001b[0m\n\u001b[1;32m----> 4\u001b[1;33m \u001b[1;32mfrom\u001b[0m \u001b[0mnumba\u001b[0m \u001b[1;32mimport\u001b[0m \u001b[0mjit\u001b[0m\u001b[1;33m\u001b[0m\u001b[1;33m\u001b[0m\u001b[0m\n\u001b[0m\u001b[0;32m      5\u001b[0m \u001b[1;32mimport\u001b[0m \u001b[0msklearn\u001b[0m\u001b[1;33m\u001b[0m\u001b[1;33m\u001b[0m\u001b[0m\n\u001b[0;32m      6\u001b[0m \u001b[1;32mimport\u001b[0m \u001b[0mwarnings\u001b[0m\u001b[1;33m\u001b[0m\u001b[1;33m\u001b[0m\u001b[0m\n",
      "\u001b[1;32m~\\Anaconda3\\lib\\site-packages\\numba\\__init__.py\u001b[0m in \u001b[0;36m<module>\u001b[1;34m\u001b[0m\n\u001b[0;32m    198\u001b[0m \u001b[1;33m\u001b[0m\u001b[0m\n\u001b[0;32m    199\u001b[0m \u001b[0m_ensure_llvm\u001b[0m\u001b[1;33m(\u001b[0m\u001b[1;33m)\u001b[0m\u001b[1;33m\u001b[0m\u001b[1;33m\u001b[0m\u001b[0m\n\u001b[1;32m--> 200\u001b[1;33m \u001b[0m_ensure_critical_deps\u001b[0m\u001b[1;33m(\u001b[0m\u001b[1;33m)\u001b[0m\u001b[1;33m\u001b[0m\u001b[1;33m\u001b[0m\u001b[0m\n\u001b[0m\u001b[0;32m    201\u001b[0m \u001b[1;33m\u001b[0m\u001b[0m\n\u001b[0;32m    202\u001b[0m \u001b[1;31m# we know llvmlite is working as the above tests passed, import it now as SVML\u001b[0m\u001b[1;33m\u001b[0m\u001b[1;33m\u001b[0m\u001b[0m\n",
      "\u001b[1;32m~\\Anaconda3\\lib\\site-packages\\numba\\__init__.py\u001b[0m in \u001b[0;36m_ensure_critical_deps\u001b[1;34m()\u001b[0m\n\u001b[0;32m    138\u001b[0m         \u001b[1;32mraise\u001b[0m \u001b[0mImportError\u001b[0m\u001b[1;33m(\u001b[0m\u001b[1;34m\"Numba needs NumPy 1.18 or greater\"\u001b[0m\u001b[1;33m)\u001b[0m\u001b[1;33m\u001b[0m\u001b[1;33m\u001b[0m\u001b[0m\n\u001b[0;32m    139\u001b[0m     \u001b[1;32melif\u001b[0m \u001b[0mnumpy_version\u001b[0m \u001b[1;33m>\u001b[0m \u001b[1;33m(\u001b[0m\u001b[1;36m1\u001b[0m\u001b[1;33m,\u001b[0m \u001b[1;36m21\u001b[0m\u001b[1;33m)\u001b[0m\u001b[1;33m:\u001b[0m\u001b[1;33m\u001b[0m\u001b[1;33m\u001b[0m\u001b[0m\n\u001b[1;32m--> 140\u001b[1;33m         \u001b[1;32mraise\u001b[0m \u001b[0mImportError\u001b[0m\u001b[1;33m(\u001b[0m\u001b[1;34m\"Numba needs NumPy 1.21 or less\"\u001b[0m\u001b[1;33m)\u001b[0m\u001b[1;33m\u001b[0m\u001b[1;33m\u001b[0m\u001b[0m\n\u001b[0m\u001b[0;32m    141\u001b[0m \u001b[1;33m\u001b[0m\u001b[0m\n\u001b[0;32m    142\u001b[0m     \u001b[1;32mtry\u001b[0m\u001b[1;33m:\u001b[0m\u001b[1;33m\u001b[0m\u001b[1;33m\u001b[0m\u001b[0m\n",
      "\u001b[1;31mImportError\u001b[0m: Numba needs NumPy 1.21 or less"
     ]
    }
   ],
   "source": [
    "import pandas as pd\n",
    "import numpy as np\n",
    "import shap\n",
    "from sklearn.linear_model import LogisticRegression\n",
    "from matplotlib import pyplot as plt"
   ]
  },
  {
   "cell_type": "markdown",
   "id": "86d22812",
   "metadata": {},
   "source": [
    "## Import two key libraries from FairML\n",
    "> Below we import the required libraries for FairML"
   ]
  },
  {
   "cell_type": "code",
   "execution_count": null,
   "id": "936012ba",
   "metadata": {},
   "outputs": [],
   "source": [
    "from fairml import audit_model\n",
    "from fairml import plot_dependencies"
   ]
  },
  {
   "cell_type": "markdown",
   "id": "45ab3f70",
   "metadata": {},
   "source": [
    "# Run example model for audit"
   ]
  },
  {
   "cell_type": "markdown",
   "id": "a3904032",
   "metadata": {},
   "source": [
    "## Read data \n",
    "> The first step of this example will be to load the relevant data. Ensure to have the 'dataset' folder in the same directory structure as the Python Notebook file which we are working on here"
   ]
  },
  {
   "cell_type": "code",
   "execution_count": null,
   "id": "90abf9e8",
   "metadata": {},
   "outputs": [],
   "source": [
    "data = pd.read_csv('dataset/propublica_data_for_fairml.csv')"
   ]
  },
  {
   "cell_type": "markdown",
   "id": "4904dee0",
   "metadata": {},
   "source": [
    "## Create feature and design matrix for model building\n",
    "> Below we will select which field we look to predict on (our target field)\n",
    "\n",
    "> There-onward we drop this field from the dataset and use all the other fields that exist to predict our target field"
   ]
  },
  {
   "cell_type": "code",
   "execution_count": null,
   "id": "fd8dae27",
   "metadata": {},
   "outputs": [],
   "source": [
    "compas_rating = data.score_factor.values\n",
    "data = data.drop(\"score_factor\",1)"
   ]
  },
  {
   "cell_type": "markdown",
   "id": "3acb4e31",
   "metadata": {},
   "source": [
    "## Fit logistic regression sklearn model\n",
    "> Below we fit a logistic regression sklearn model based on our remaining dataset"
   ]
  },
  {
   "cell_type": "code",
   "execution_count": null,
   "id": "f7613aef",
   "metadata": {},
   "outputs": [],
   "source": [
    "clf = LogisticRegression(penalty='l2', C=0.01)\n",
    "clf.fit(data.values,compas_rating)"
   ]
  },
  {
   "cell_type": "markdown",
   "id": "678201ce",
   "metadata": {},
   "source": [
    "# Audit the model with FairML"
   ]
  },
  {
   "cell_type": "markdown",
   "id": "9f732e70",
   "metadata": {},
   "source": [
    "## Call audit model with model & print feature importance\n",
    "> Below we audit our model using FairML, this will tell us the feature dependence for each field that is relevant to predicting our target field\n",
    "\n",
    "> This tells us which fields may contain forms of bias that heavily influence our models decisions"
   ]
  },
  {
   "cell_type": "code",
   "execution_count": null,
   "id": "38abb5ae",
   "metadata": {},
   "outputs": [],
   "source": [
    "total, _ = audit_model(clf.predict, data)\n",
    "print(total)"
   ]
  },
  {
   "cell_type": "markdown",
   "id": "18cfb05d",
   "metadata": {},
   "source": [
    "## Generate feature dependence plot\n",
    "> Below we show some examples of how we can display the feature dependence data that we have retrieved using FairML"
   ]
  },
  {
   "cell_type": "markdown",
   "id": "48f38735",
   "metadata": {},
   "source": [
    "### Bar Plot"
   ]
  },
  {
   "cell_type": "code",
   "execution_count": null,
   "id": "e26c0602",
   "metadata": {},
   "outputs": [],
   "source": [
    "fig = plot_dependencies(\n",
    "    total.median(),\n",
    "    reverse_values = False,\n",
    "    title = \"FairML feature dependence\"\n",
    ")\n",
    "plt.savefig(\"fairml_ldp.eps\", transparent=False, bbox_inches='tight')"
   ]
  },
  {
   "cell_type": "code",
   "execution_count": null,
   "id": "b891893f",
   "metadata": {},
   "outputs": [],
   "source": [
    "import matplotlib\n",
    "matplotlib.use('TkAgg')"
   ]
  },
  {
   "cell_type": "code",
   "execution_count": null,
   "id": "a408f637",
   "metadata": {},
   "outputs": [],
   "source": [
    "plt.show()"
   ]
  }
 ],
 "metadata": {
  "kernelspec": {
   "display_name": "Python 3 (ipykernel)",
   "language": "python",
   "name": "python3"
  },
  "language_info": {
   "codemirror_mode": {
    "name": "ipython",
    "version": 3
   },
   "file_extension": ".py",
   "mimetype": "text/x-python",
   "name": "python",
   "nbconvert_exporter": "python",
   "pygments_lexer": "ipython3",
   "version": "3.9.13"
  }
 },
 "nbformat": 4,
 "nbformat_minor": 5
}
