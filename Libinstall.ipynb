{
 "cells": [
  {
   "cell_type": "markdown",
   "id": "52098c01",
   "metadata": {},
   "source": [
    "# Libraries Installer"
   ]
  },
  {
   "cell_type": "code",
   "execution_count": 1,
   "id": "8f5d3fe0",
   "metadata": {},
   "outputs": [
    {
     "name": "stdout",
     "output_type": "stream",
     "text": [
      "Requirement already satisfied: fairlearn in c:\\users\\kchp100\\anaconda3\\lib\\site-packages (0.8.0)\n",
      "Requirement already satisfied: pandas>=0.25.1 in c:\\users\\kchp100\\anaconda3\\lib\\site-packages (from fairlearn) (1.3.3)\n",
      "Requirement already satisfied: numpy>=1.17.2 in c:\\users\\kchp100\\anaconda3\\lib\\site-packages (from fairlearn) (1.21.0)\n",
      "Requirement already satisfied: scikit-learn>=0.22.1 in c:\\users\\kchp100\\anaconda3\\lib\\site-packages (from fairlearn) (1.0)\n",
      "Requirement already satisfied: scipy>=1.4.1 in c:\\users\\kchp100\\anaconda3\\lib\\site-packages (from fairlearn) (1.7.0)\n",
      "Requirement already satisfied: python-dateutil>=2.7.3 in c:\\users\\kchp100\\anaconda3\\lib\\site-packages (from pandas>=0.25.1->fairlearn) (2.8.2)\n",
      "Requirement already satisfied: pytz>=2017.3 in c:\\users\\kchp100\\anaconda3\\lib\\site-packages (from pandas>=0.25.1->fairlearn) (2022.1)\n",
      "Requirement already satisfied: threadpoolctl>=2.0.0 in c:\\users\\kchp100\\anaconda3\\lib\\site-packages (from scikit-learn>=0.22.1->fairlearn) (2.2.0)\n",
      "Requirement already satisfied: joblib>=0.11 in c:\\users\\kchp100\\anaconda3\\lib\\site-packages (from scikit-learn>=0.22.1->fairlearn) (1.1.0)\n",
      "Requirement already satisfied: six>=1.5 in c:\\users\\kchp100\\anaconda3\\lib\\site-packages (from python-dateutil>=2.7.3->pandas>=0.25.1->fairlearn) (1.16.0)\n"
     ]
    },
    {
     "name": "stderr",
     "output_type": "stream",
     "text": [
      "WARNING: Ignoring invalid distribution -rotobuf (c:\\users\\kchp100\\appdata\\roaming\\python\\python39\\site-packages)\n",
      "WARNING: Ignoring invalid distribution -illow (c:\\users\\kchp100\\anaconda3\\lib\\site-packages)\n",
      "WARNING: Ignoring invalid distribution -cipy (c:\\users\\kchp100\\anaconda3\\lib\\site-packages)\n",
      "WARNING: Ignoring invalid distribution -rotobuf (c:\\users\\kchp100\\appdata\\roaming\\python\\python39\\site-packages)\n",
      "WARNING: Ignoring invalid distribution -illow (c:\\users\\kchp100\\anaconda3\\lib\\site-packages)\n",
      "WARNING: Ignoring invalid distribution -cipy (c:\\users\\kchp100\\anaconda3\\lib\\site-packages)\n",
      "WARNING: Ignoring invalid distribution -rotobuf (c:\\users\\kchp100\\appdata\\roaming\\python\\python39\\site-packages)\n",
      "WARNING: Ignoring invalid distribution -illow (c:\\users\\kchp100\\anaconda3\\lib\\site-packages)\n",
      "WARNING: Ignoring invalid distribution -cipy (c:\\users\\kchp100\\anaconda3\\lib\\site-packages)\n",
      "WARNING: Ignoring invalid distribution -rotobuf (c:\\users\\kchp100\\appdata\\roaming\\python\\python39\\site-packages)\n",
      "WARNING: Ignoring invalid distribution -illow (c:\\users\\kchp100\\anaconda3\\lib\\site-packages)\n",
      "WARNING: Ignoring invalid distribution -cipy (c:\\users\\kchp100\\anaconda3\\lib\\site-packages)\n",
      "WARNING: Ignoring invalid distribution -rotobuf (c:\\users\\kchp100\\appdata\\roaming\\python\\python39\\site-packages)\n",
      "WARNING: Ignoring invalid distribution -illow (c:\\users\\kchp100\\anaconda3\\lib\\site-packages)\n",
      "WARNING: Ignoring invalid distribution -cipy (c:\\users\\kchp100\\anaconda3\\lib\\site-packages)\n",
      "WARNING: There was an error checking the latest version of pip.\n"
     ]
    },
    {
     "name": "stdout",
     "output_type": "stream",
     "text": [
      "Collecting https://github.com/adebayoj/fairml/archive/master.zip\n"
     ]
    },
    {
     "name": "stderr",
     "output_type": "stream",
     "text": [
      "WARNING: Ignoring invalid distribution -rotobuf (c:\\users\\kchp100\\appdata\\roaming\\python\\python39\\site-packages)\n",
      "WARNING: Ignoring invalid distribution -illow (c:\\users\\kchp100\\anaconda3\\lib\\site-packages)\n",
      "WARNING: Ignoring invalid distribution -cipy (c:\\users\\kchp100\\anaconda3\\lib\\site-packages)\n",
      "WARNING: Ignoring invalid distribution -rotobuf (c:\\users\\kchp100\\appdata\\roaming\\python\\python39\\site-packages)\n",
      "WARNING: Ignoring invalid distribution -illow (c:\\users\\kchp100\\anaconda3\\lib\\site-packages)\n",
      "WARNING: Ignoring invalid distribution -cipy (c:\\users\\kchp100\\anaconda3\\lib\\site-packages)\n",
      "  WARNING: Retrying (Retry(total=4, connect=None, read=None, redirect=None, status=None)) after connection broken by 'ConnectTimeoutError(<pip._vendor.urllib3.connection.HTTPSConnection object at 0x00000240886C4190>, 'Connection to github.com timed out. (connect timeout=15)')': /adebayoj/fairml/archive/master.zip\n",
      "  WARNING: Retrying (Retry(total=3, connect=None, read=None, redirect=None, status=None)) after connection broken by 'ConnectTimeoutError(<pip._vendor.urllib3.connection.HTTPSConnection object at 0x00000240886C4430>, 'Connection to github.com timed out. (connect timeout=15)')': /adebayoj/fairml/archive/master.zip\n",
      "  WARNING: Retrying (Retry(total=2, connect=None, read=None, redirect=None, status=None)) after connection broken by 'ConnectTimeoutError(<pip._vendor.urllib3.connection.HTTPSConnection object at 0x00000240886C4520>, 'Connection to github.com timed out. (connect timeout=15)')': /adebayoj/fairml/archive/master.zip\n",
      "  WARNING: Retrying (Retry(total=1, connect=None, read=None, redirect=None, status=None)) after connection broken by 'ConnectTimeoutError(<pip._vendor.urllib3.connection.HTTPSConnection object at 0x00000240886C46A0>, 'Connection to github.com timed out. (connect timeout=15)')': /adebayoj/fairml/archive/master.zip\n",
      "  WARNING: Retrying (Retry(total=0, connect=None, read=None, redirect=None, status=None)) after connection broken by 'ConnectTimeoutError(<pip._vendor.urllib3.connection.HTTPSConnection object at 0x00000240886C4820>, 'Connection to github.com timed out. (connect timeout=15)')': /adebayoj/fairml/archive/master.zip\n",
      "ERROR: Could not install packages due to an OSError: HTTPSConnectionPool(host='github.com', port=443): Max retries exceeded with url: /adebayoj/fairml/archive/master.zip (Caused by ConnectTimeoutError(<pip._vendor.urllib3.connection.HTTPSConnection object at 0x00000240886C49A0>, 'Connection to github.com timed out. (connect timeout=15)'))\n",
      "\n",
      "WARNING: Ignoring invalid distribution -rotobuf (c:\\users\\kchp100\\appdata\\roaming\\python\\python39\\site-packages)\n",
      "WARNING: Ignoring invalid distribution -illow (c:\\users\\kchp100\\anaconda3\\lib\\site-packages)\n",
      "WARNING: Ignoring invalid distribution -cipy (c:\\users\\kchp100\\anaconda3\\lib\\site-packages)\n",
      "WARNING: Ignoring invalid distribution -rotobuf (c:\\users\\kchp100\\appdata\\roaming\\python\\python39\\site-packages)\n",
      "WARNING: Ignoring invalid distribution -illow (c:\\users\\kchp100\\anaconda3\\lib\\site-packages)\n",
      "WARNING: Ignoring invalid distribution -cipy (c:\\users\\kchp100\\anaconda3\\lib\\site-packages)\n",
      "WARNING: There was an error checking the latest version of pip.\n"
     ]
    }
   ],
   "source": [
    "!pip install fairlearn\n",
    "!pip install https://github.com/adebayoj/fairml/archive/master.zip\n",
    "!pip install witwidget\n",
    "!pip install pandas\n",
    "!pip install numpy\n",
    "!pip install tensorflow\n",
    "!pip install functools\n",
    "!pip install os\n",
    "!pip install matplotlib\n",
    "!pip install xai\n",
    "!pip install PIL\n",
    "!pip install io"
   ]
  }
 ],
 "metadata": {
  "kernelspec": {
   "display_name": "Python 3 (ipykernel)",
   "language": "python",
   "name": "python3"
  },
  "language_info": {
   "codemirror_mode": {
    "name": "ipython",
    "version": 3
   },
   "file_extension": ".py",
   "mimetype": "text/x-python",
   "name": "python",
   "nbconvert_exporter": "python",
   "pygments_lexer": "ipython3",
   "version": "3.9.13"
  }
 },
 "nbformat": 4,
 "nbformat_minor": 5
}
